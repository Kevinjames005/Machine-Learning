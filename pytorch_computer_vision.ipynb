{
 "cells": [
  {
   "cell_type": "markdown",
   "id": "b981b4a4",
   "metadata": {},
   "source": [
    "# Pytorch Computer Vision\n",
    "\n",
    "\n",
    "#### Main libraries to look onto\n",
    "\n",
    "| **PyTorch Module**                 | **What Does It Do?**                                                                                                                                          |\n",
    "|-----------------------------------|---------------------------------------------------------------------------------------------------------------------------------------------------------------|\n",
    "| `torchvision`                     | Contains datasets, model architectures, and image transformations often used for computer vision problems.                                                   |\n",
    "| `torchvision.datasets`           | Includes many example computer vision datasets for tasks like image classification, object detection, video classification, etc. Also includes base classes for custom datasets. |\n",
    "| `torchvision.models`             | Provides prebuilt, commonly used model architectures (e.g., ResNet, VGG) that can be used or fine-tuned for your own tasks.                                   |\n",
    "| `torchvision.transforms`         | Provides image transformation functions (like resizing, normalization, data augmentation) to preprocess images for training/testing.                          |\n",
    "| `torch.utils.data.Dataset`       | Base class for all PyTorch datasets. You subclass this to define custom datasets.                                                                             |\n",
    "| `torch.utils.data.DataLoader`    | Creates an efficient Python iterable (with batching, shuffling, etc.) over a dataset defined using `Dataset`.                                                 |\n"
   ]
  },
  {
   "cell_type": "code",
   "execution_count": 1,
   "id": "1e675f7d",
   "metadata": {},
   "outputs": [
    {
     "data": {
      "text/plain": [
       "('2.6.0+cu118', '0.21.0+cu118')"
      ]
     },
     "execution_count": 1,
     "metadata": {},
     "output_type": "execute_result"
    }
   ],
   "source": [
    "import torch\n",
    "from torch import nn\n",
    "\n",
    "import torchvision\n",
    "from torchvision import datasets\n",
    "from torchvision import transforms\n",
    "from torchvision.transforms import ToTensor\n",
    "\n",
    "torch.__version__,torchvision.__version__"
   ]
  },
  {
   "cell_type": "markdown",
   "id": "2d1cc4c6",
   "metadata": {},
   "source": [
    "### Lets's setup the training data\n",
    "\n",
    "We are using the FashionMNIST dataset from torchvision.datasets"
   ]
  },
  {
   "cell_type": "code",
   "execution_count": 2,
   "id": "2cf54336",
   "metadata": {},
   "outputs": [],
   "source": [
    "# Download the data\n",
    "\n",
    "train_data = datasets.FashionMNIST(\n",
    "    root = \"data\",\n",
    "    train=True,\n",
    "    download=True,\n",
    "    transform= torchvision.transforms.ToTensor(),\n",
    "    target_transform=None\n",
    "    )\n",
    "\n",
    "test_data = datasets.FashionMNIST(\n",
    "    root=\"data\",\n",
    "    download=True,\n",
    "    train=False,\n",
    "    transform=ToTensor(),\n",
    "    target_transform=None,\n",
    "\n",
    ")"
   ]
  },
  {
   "cell_type": "code",
   "execution_count": 3,
   "id": "327ad57a",
   "metadata": {},
   "outputs": [
    {
     "data": {
      "text/plain": [
       "(60000, 10000)"
      ]
     },
     "execution_count": 3,
     "metadata": {},
     "output_type": "execute_result"
    }
   ],
   "source": [
    "len(train_data),len(test_data)"
   ]
  },
  {
   "cell_type": "code",
   "execution_count": 4,
   "id": "dc0e07d5",
   "metadata": {},
   "outputs": [
    {
     "data": {
      "text/plain": [
       "(tensor([[[0.0000, 0.0000, 0.0000, 0.0000, 0.0000, 0.0000, 0.0000, 0.0000,\n",
       "           0.0000, 0.0000, 0.0000, 0.0000, 0.0000, 0.0000, 0.0000, 0.0000,\n",
       "           0.0000, 0.0000, 0.0000, 0.0000, 0.0000, 0.0000, 0.0000, 0.0000,\n",
       "           0.0000, 0.0000, 0.0000, 0.0000],\n",
       "          [0.0000, 0.0000, 0.0000, 0.0000, 0.0000, 0.0000, 0.0000, 0.0000,\n",
       "           0.0000, 0.0000, 0.0000, 0.0000, 0.0000, 0.0000, 0.0000, 0.0000,\n",
       "           0.0000, 0.0000, 0.0000, 0.0000, 0.0000, 0.0000, 0.0000, 0.0000,\n",
       "           0.0000, 0.0000, 0.0000, 0.0000],\n",
       "          [0.0000, 0.0000, 0.0000, 0.0000, 0.0000, 0.0000, 0.0000, 0.0000,\n",
       "           0.0000, 0.0000, 0.0000, 0.0000, 0.0000, 0.0000, 0.0000, 0.0000,\n",
       "           0.0000, 0.0000, 0.0000, 0.0000, 0.0000, 0.0000, 0.0000, 0.0000,\n",
       "           0.0000, 0.0000, 0.0000, 0.0000],\n",
       "          [0.0000, 0.0000, 0.0000, 0.0000, 0.0000, 0.0000, 0.0000, 0.0000,\n",
       "           0.0000, 0.0000, 0.0000, 0.0000, 0.0039, 0.0000, 0.0000, 0.0510,\n",
       "           0.2863, 0.0000, 0.0000, 0.0039, 0.0157, 0.0000, 0.0000, 0.0000,\n",
       "           0.0000, 0.0039, 0.0039, 0.0000],\n",
       "          [0.0000, 0.0000, 0.0000, 0.0000, 0.0000, 0.0000, 0.0000, 0.0000,\n",
       "           0.0000, 0.0000, 0.0000, 0.0000, 0.0118, 0.0000, 0.1412, 0.5333,\n",
       "           0.4980, 0.2431, 0.2118, 0.0000, 0.0000, 0.0000, 0.0039, 0.0118,\n",
       "           0.0157, 0.0000, 0.0000, 0.0118],\n",
       "          [0.0000, 0.0000, 0.0000, 0.0000, 0.0000, 0.0000, 0.0000, 0.0000,\n",
       "           0.0000, 0.0000, 0.0000, 0.0000, 0.0235, 0.0000, 0.4000, 0.8000,\n",
       "           0.6902, 0.5255, 0.5647, 0.4824, 0.0902, 0.0000, 0.0000, 0.0000,\n",
       "           0.0000, 0.0471, 0.0392, 0.0000],\n",
       "          [0.0000, 0.0000, 0.0000, 0.0000, 0.0000, 0.0000, 0.0000, 0.0000,\n",
       "           0.0000, 0.0000, 0.0000, 0.0000, 0.0000, 0.0000, 0.6078, 0.9255,\n",
       "           0.8118, 0.6980, 0.4196, 0.6118, 0.6314, 0.4275, 0.2510, 0.0902,\n",
       "           0.3020, 0.5098, 0.2824, 0.0588],\n",
       "          [0.0000, 0.0000, 0.0000, 0.0000, 0.0000, 0.0000, 0.0000, 0.0000,\n",
       "           0.0000, 0.0000, 0.0000, 0.0039, 0.0000, 0.2706, 0.8118, 0.8745,\n",
       "           0.8549, 0.8471, 0.8471, 0.6392, 0.4980, 0.4745, 0.4784, 0.5725,\n",
       "           0.5529, 0.3451, 0.6745, 0.2588],\n",
       "          [0.0000, 0.0000, 0.0000, 0.0000, 0.0000, 0.0000, 0.0000, 0.0000,\n",
       "           0.0000, 0.0039, 0.0039, 0.0039, 0.0000, 0.7843, 0.9098, 0.9098,\n",
       "           0.9137, 0.8980, 0.8745, 0.8745, 0.8431, 0.8353, 0.6431, 0.4980,\n",
       "           0.4824, 0.7686, 0.8980, 0.0000],\n",
       "          [0.0000, 0.0000, 0.0000, 0.0000, 0.0000, 0.0000, 0.0000, 0.0000,\n",
       "           0.0000, 0.0000, 0.0000, 0.0000, 0.0000, 0.7176, 0.8824, 0.8471,\n",
       "           0.8745, 0.8941, 0.9216, 0.8902, 0.8784, 0.8706, 0.8784, 0.8667,\n",
       "           0.8745, 0.9608, 0.6784, 0.0000],\n",
       "          [0.0000, 0.0000, 0.0000, 0.0000, 0.0000, 0.0000, 0.0000, 0.0000,\n",
       "           0.0000, 0.0000, 0.0000, 0.0000, 0.0000, 0.7569, 0.8941, 0.8549,\n",
       "           0.8353, 0.7765, 0.7059, 0.8314, 0.8235, 0.8275, 0.8353, 0.8745,\n",
       "           0.8627, 0.9529, 0.7922, 0.0000],\n",
       "          [0.0000, 0.0000, 0.0000, 0.0000, 0.0000, 0.0000, 0.0000, 0.0000,\n",
       "           0.0000, 0.0039, 0.0118, 0.0000, 0.0471, 0.8588, 0.8627, 0.8314,\n",
       "           0.8549, 0.7529, 0.6627, 0.8902, 0.8157, 0.8549, 0.8784, 0.8314,\n",
       "           0.8863, 0.7725, 0.8196, 0.2039],\n",
       "          [0.0000, 0.0000, 0.0000, 0.0000, 0.0000, 0.0000, 0.0000, 0.0000,\n",
       "           0.0000, 0.0000, 0.0235, 0.0000, 0.3882, 0.9569, 0.8706, 0.8627,\n",
       "           0.8549, 0.7961, 0.7765, 0.8667, 0.8431, 0.8353, 0.8706, 0.8627,\n",
       "           0.9608, 0.4667, 0.6549, 0.2196],\n",
       "          [0.0000, 0.0000, 0.0000, 0.0000, 0.0000, 0.0000, 0.0000, 0.0000,\n",
       "           0.0000, 0.0157, 0.0000, 0.0000, 0.2157, 0.9255, 0.8941, 0.9020,\n",
       "           0.8941, 0.9412, 0.9098, 0.8353, 0.8549, 0.8745, 0.9176, 0.8510,\n",
       "           0.8510, 0.8196, 0.3608, 0.0000],\n",
       "          [0.0000, 0.0000, 0.0039, 0.0157, 0.0235, 0.0275, 0.0078, 0.0000,\n",
       "           0.0000, 0.0000, 0.0000, 0.0000, 0.9294, 0.8863, 0.8510, 0.8745,\n",
       "           0.8706, 0.8588, 0.8706, 0.8667, 0.8471, 0.8745, 0.8980, 0.8431,\n",
       "           0.8549, 1.0000, 0.3020, 0.0000],\n",
       "          [0.0000, 0.0118, 0.0000, 0.0000, 0.0000, 0.0000, 0.0000, 0.0000,\n",
       "           0.0000, 0.2431, 0.5686, 0.8000, 0.8941, 0.8118, 0.8353, 0.8667,\n",
       "           0.8549, 0.8157, 0.8275, 0.8549, 0.8784, 0.8745, 0.8588, 0.8431,\n",
       "           0.8784, 0.9569, 0.6235, 0.0000],\n",
       "          [0.0000, 0.0000, 0.0000, 0.0000, 0.0706, 0.1725, 0.3216, 0.4196,\n",
       "           0.7412, 0.8941, 0.8627, 0.8706, 0.8510, 0.8863, 0.7843, 0.8039,\n",
       "           0.8275, 0.9020, 0.8784, 0.9176, 0.6902, 0.7373, 0.9804, 0.9725,\n",
       "           0.9137, 0.9333, 0.8431, 0.0000],\n",
       "          [0.0000, 0.2235, 0.7333, 0.8157, 0.8784, 0.8667, 0.8784, 0.8157,\n",
       "           0.8000, 0.8392, 0.8157, 0.8196, 0.7843, 0.6235, 0.9608, 0.7569,\n",
       "           0.8078, 0.8745, 1.0000, 1.0000, 0.8667, 0.9176, 0.8667, 0.8275,\n",
       "           0.8627, 0.9098, 0.9647, 0.0000],\n",
       "          [0.0118, 0.7922, 0.8941, 0.8784, 0.8667, 0.8275, 0.8275, 0.8392,\n",
       "           0.8039, 0.8039, 0.8039, 0.8627, 0.9412, 0.3137, 0.5882, 1.0000,\n",
       "           0.8980, 0.8667, 0.7373, 0.6039, 0.7490, 0.8235, 0.8000, 0.8196,\n",
       "           0.8706, 0.8941, 0.8824, 0.0000],\n",
       "          [0.3843, 0.9137, 0.7765, 0.8235, 0.8706, 0.8980, 0.8980, 0.9176,\n",
       "           0.9765, 0.8627, 0.7608, 0.8431, 0.8510, 0.9451, 0.2549, 0.2863,\n",
       "           0.4157, 0.4588, 0.6588, 0.8588, 0.8667, 0.8431, 0.8510, 0.8745,\n",
       "           0.8745, 0.8784, 0.8980, 0.1137],\n",
       "          [0.2941, 0.8000, 0.8314, 0.8000, 0.7569, 0.8039, 0.8275, 0.8824,\n",
       "           0.8471, 0.7255, 0.7725, 0.8078, 0.7765, 0.8353, 0.9412, 0.7647,\n",
       "           0.8902, 0.9608, 0.9373, 0.8745, 0.8549, 0.8314, 0.8196, 0.8706,\n",
       "           0.8627, 0.8667, 0.9020, 0.2627],\n",
       "          [0.1882, 0.7961, 0.7176, 0.7608, 0.8353, 0.7725, 0.7255, 0.7451,\n",
       "           0.7608, 0.7529, 0.7922, 0.8392, 0.8588, 0.8667, 0.8627, 0.9255,\n",
       "           0.8824, 0.8471, 0.7804, 0.8078, 0.7294, 0.7098, 0.6941, 0.6745,\n",
       "           0.7098, 0.8039, 0.8078, 0.4510],\n",
       "          [0.0000, 0.4784, 0.8588, 0.7569, 0.7020, 0.6706, 0.7176, 0.7686,\n",
       "           0.8000, 0.8235, 0.8353, 0.8118, 0.8275, 0.8235, 0.7843, 0.7686,\n",
       "           0.7608, 0.7490, 0.7647, 0.7490, 0.7765, 0.7529, 0.6902, 0.6118,\n",
       "           0.6549, 0.6941, 0.8235, 0.3608],\n",
       "          [0.0000, 0.0000, 0.2902, 0.7412, 0.8314, 0.7490, 0.6863, 0.6745,\n",
       "           0.6863, 0.7098, 0.7255, 0.7373, 0.7412, 0.7373, 0.7569, 0.7765,\n",
       "           0.8000, 0.8196, 0.8235, 0.8235, 0.8275, 0.7373, 0.7373, 0.7608,\n",
       "           0.7529, 0.8471, 0.6667, 0.0000],\n",
       "          [0.0078, 0.0000, 0.0000, 0.0000, 0.2588, 0.7843, 0.8706, 0.9294,\n",
       "           0.9373, 0.9490, 0.9647, 0.9529, 0.9569, 0.8667, 0.8627, 0.7569,\n",
       "           0.7490, 0.7020, 0.7137, 0.7137, 0.7098, 0.6902, 0.6510, 0.6588,\n",
       "           0.3882, 0.2275, 0.0000, 0.0000],\n",
       "          [0.0000, 0.0000, 0.0000, 0.0000, 0.0000, 0.0000, 0.0000, 0.1569,\n",
       "           0.2392, 0.1725, 0.2824, 0.1608, 0.1373, 0.0000, 0.0000, 0.0000,\n",
       "           0.0000, 0.0000, 0.0000, 0.0000, 0.0000, 0.0000, 0.0000, 0.0000,\n",
       "           0.0000, 0.0000, 0.0000, 0.0000],\n",
       "          [0.0000, 0.0000, 0.0000, 0.0000, 0.0000, 0.0000, 0.0000, 0.0000,\n",
       "           0.0000, 0.0000, 0.0000, 0.0000, 0.0000, 0.0000, 0.0000, 0.0000,\n",
       "           0.0000, 0.0000, 0.0000, 0.0000, 0.0000, 0.0000, 0.0000, 0.0000,\n",
       "           0.0000, 0.0000, 0.0000, 0.0000],\n",
       "          [0.0000, 0.0000, 0.0000, 0.0000, 0.0000, 0.0000, 0.0000, 0.0000,\n",
       "           0.0000, 0.0000, 0.0000, 0.0000, 0.0000, 0.0000, 0.0000, 0.0000,\n",
       "           0.0000, 0.0000, 0.0000, 0.0000, 0.0000, 0.0000, 0.0000, 0.0000,\n",
       "           0.0000, 0.0000, 0.0000, 0.0000]]]),\n",
       " 9)"
      ]
     },
     "execution_count": 4,
     "metadata": {},
     "output_type": "execute_result"
    }
   ],
   "source": [
    "image , label = train_data[0]\n",
    "\n",
    "image,label"
   ]
  },
  {
   "cell_type": "code",
   "execution_count": 5,
   "id": "05ed7044",
   "metadata": {},
   "outputs": [
    {
     "data": {
      "text/plain": [
       "['T-shirt/top',\n",
       " 'Trouser',\n",
       " 'Pullover',\n",
       " 'Dress',\n",
       " 'Coat',\n",
       " 'Sandal',\n",
       " 'Shirt',\n",
       " 'Sneaker',\n",
       " 'Bag',\n",
       " 'Ankle boot']"
      ]
     },
     "execution_count": 5,
     "metadata": {},
     "output_type": "execute_result"
    }
   ],
   "source": [
    "train_data_classes = train_data.classes\n",
    "train_data_classes"
   ]
  },
  {
   "cell_type": "code",
   "execution_count": 6,
   "id": "a720fef5",
   "metadata": {},
   "outputs": [
    {
     "data": {
      "text/plain": [
       "{'T-shirt/top': 0,\n",
       " 'Trouser': 1,\n",
       " 'Pullover': 2,\n",
       " 'Dress': 3,\n",
       " 'Coat': 4,\n",
       " 'Sandal': 5,\n",
       " 'Shirt': 6,\n",
       " 'Sneaker': 7,\n",
       " 'Bag': 8,\n",
       " 'Ankle boot': 9}"
      ]
     },
     "execution_count": 6,
     "metadata": {},
     "output_type": "execute_result"
    }
   ],
   "source": [
    "train_data_class_to_idx = train_data.class_to_idx\n",
    "train_data_class_to_idx"
   ]
  },
  {
   "cell_type": "code",
   "execution_count": 7,
   "id": "1d898008",
   "metadata": {},
   "outputs": [
    {
     "data": {
      "text/plain": [
       "<matplotlib.image.AxesImage at 0x27ac953aa50>"
      ]
     },
     "execution_count": 7,
     "metadata": {},
     "output_type": "execute_result"
    },
    {
     "data": {
      "image/png": "[encoded data removed]",
      "text/plain": [
       "<Figure size 640x480 with 1 Axes>"
      ]
     },
     "metadata": {},
     "output_type": "display_data"
    }
   ],
   "source": [
    "#### Visualize the data\n",
    "\n",
    "import matplotlib.pyplot as plt\n",
    "\n",
    "plt.imshow(image.squeeze())"
   ]
  },
  {
   "cell_type": "code",
   "execution_count": 8,
   "id": "52cd24a5",
   "metadata": {},
   "outputs": [
    {
     "data": {
      "text/plain": [
       "<matplotlib.image.AxesImage at 0x27aca724190>"
      ]
     },
     "execution_count": 8,
     "metadata": {},
     "output_type": "execute_result"
    },
    {
     "data": {
      "image/png": "[encoded data removed]",
      "text/plain": [
       "<Figure size 640x480 with 1 Axes>"
      ]
     },
     "metadata": {},
     "output_type": "display_data"
    }
   ],
   "source": [
    "plt.imshow(image.squeeze(),cmap=\"grey\")"
   ]
  },
  {
   "cell_type": "code",
   "execution_count": 9,
   "id": "f0381f77",
   "metadata": {},
   "outputs": [
    {
     "data": {
      "image/png": "[encoded data removed]",
      "text/plain": [
       "<Figure size 900x900 with 16 Axes>"
      ]
     },
     "metadata": {},
     "output_type": "display_data"
    }
   ],
   "source": [
    "torch.manual_seed(42)\n",
    "import random\n",
    "\n",
    "fig = plt.figure(figsize=(9,9))\n",
    "rows , columns = 4,4\n",
    "for i in range(1,rows*columns+1):\n",
    "    random_index = random.randint(0,len(train_data))\n",
    "    image,label = train_data[random_index]\n",
    "    fig.add_subplot(rows,columns,i)\n",
    "    plt.imshow(image.squeeze(),cmap=\"grey\")\n",
    "    plt.title(train_data_classes[label])\n",
    "    plt.axis(False)\n"
   ]
  },
  {
   "cell_type": "markdown",
   "id": "722d1ea1",
   "metadata": {},
   "source": [
    "### 2. Prepare DataLoader (Mini-Batches)\n",
    "\n",
    "`torch.utils.data.DataLoader` turns a dataset into an iterable of smaller chunks called **batches** or **mini-batches**.\n",
    "\n",
    "- **Why use it?**\n",
    "  - More **efficient** than processing all data at once.\n",
    "  - Enables **mini-batch gradient descent**, which updates the model multiple times per epoch.\n",
    "  - Reduces memory usage and speeds up training.\n",
    "\n",
    "- **How to set batch size?**\n",
    "  - Use the `batch_size` parameter (e.g., 32, 64, 128).\n",
    "  - Common to use powers of 2.\n",
    "  - `32` is a good starting point.\n",
    "\n",
    "DataLoaders are essential for both **training** and **inference** workflows.\n",
    "\n"
   ]
  },
  {
   "cell_type": "code",
   "execution_count": 10,
   "id": "c97d4b21",
   "metadata": {},
   "outputs": [
    {
     "data": {
      "text/plain": [
       "(<torch.utils.data.dataloader.DataLoader at 0x27ac953b0e0>,\n",
       " <torch.utils.data.dataloader.DataLoader at 0x27acade0550>)"
      ]
     },
     "execution_count": 10,
     "metadata": {},
     "output_type": "execute_result"
    }
   ],
   "source": [
    "from torch.utils.data import DataLoader\n",
    "\n",
    "train_data_loader = DataLoader(dataset=train_data,\n",
    "                               batch_size=32,\n",
    "                               shuffle=True\n",
    "                               )\n",
    "test_data_loader = DataLoader(dataset=test_data,\n",
    "                               batch_size=32,\n",
    "                               shuffle=False\n",
    "                               )\n",
    "\n",
    "train_data_loader,test_data_loader"
   ]
  },
  {
   "cell_type": "code",
   "execution_count": 11,
   "id": "246937f0",
   "metadata": {},
   "outputs": [
    {
     "name": "stdout",
     "output_type": "stream",
     "text": [
      "The length of Train data loader: 1875 of the batch size : 32\n",
      "The length of Test data loader : 313 of the batch size : 32\n",
      "torch.Size([32, 1, 28, 28])\n"
     ]
    }
   ],
   "source": [
    "print(f\"The length of Train data loader: {len(train_data_loader)} of the batch size : 32\")\n",
    "print(f\"The length of Test data loader : {len(test_data_loader)} of the batch size : 32\")\n",
    "batch = next(iter(train_data_loader))\n",
    "images , labels = batch\n",
    "print(images.shape)"
   ]
  },
  {
   "cell_type": "code",
   "execution_count": 12,
   "id": "f0416726",
   "metadata": {},
   "outputs": [
    {
     "data": {
      "text/plain": [
       "<matplotlib.image.AxesImage at 0x27acade3c50>"
      ]
     },
     "execution_count": 12,
     "metadata": {},
     "output_type": "execute_result"
    },
    {
     "data": {
      "image/png": "[encoded data removed]",
      "text/plain": [
       "<Figure size 640x480 with 1 Axes>"
      ]
     },
     "metadata": {},
     "output_type": "display_data"
    }
   ],
   "source": [
    "batch_image = images[0]\n",
    "plt.imshow(batch_image.squeeze())"
   ]
  },
  {
   "cell_type": "markdown",
   "id": "ccb59b5c",
   "metadata": {},
   "source": [
    "#### 🔄 Flatten Layer in Neural Networks\n",
    "\n",
    "##### 📌 What is `Flatten`?\n",
    "\n",
    "The `Flatten` layer is used in neural networks to **convert multi-dimensional inputs into a 1D vector**. It's typically used when moving from convolutional layers to fully connected (dense) layers.\n",
    "\n",
    "---\n",
    "\n",
    "##### 🧱 Why Use `Flatten`?\n",
    "\n",
    "- Convolutional layers output tensors with shape like `(height, width, channels)`.\n",
    "- Dense (fully connected) layers expect a 1D input: `(features,)`.\n",
    "- `Flatten` reshapes the tensor without changing the batch size.\n",
    "\n",
    "---\n"
   ]
  },
  {
   "cell_type": "code",
   "execution_count": 13,
   "id": "9c5d9e59",
   "metadata": {},
   "outputs": [],
   "source": [
    "class FashionMINIST(nn.Module):\n",
    "    def __init__(self,\n",
    "                 input_units,\n",
    "                 hidden_units,\n",
    "                 output_units):\n",
    "        super().__init__()\n",
    "        self.layer_stack = nn.Sequential(\n",
    "            nn.Flatten(),\n",
    "            nn.Linear(in_features=input_units,out_features=hidden_units),\n",
    "            nn.Linear(in_features=hidden_units,out_features=output_units)\n",
    "        )\n",
    "    def forward(self,x):\n",
    "        return self.layer_stack(x)\n"
   ]
  },
  {
   "cell_type": "code",
   "execution_count": 14,
   "id": "a80d4dc4",
   "metadata": {},
   "outputs": [
    {
     "data": {
      "text/plain": [
       "FashionMINIST(\n",
       "  (layer_stack): Sequential(\n",
       "    (0): Flatten(start_dim=1, end_dim=-1)\n",
       "    (1): Linear(in_features=784, out_features=10, bias=True)\n",
       "    (2): Linear(in_features=10, out_features=10, bias=True)\n",
       "  )\n",
       ")"
      ]
     },
     "execution_count": 14,
     "metadata": {},
     "output_type": "execute_result"
    }
   ],
   "source": [
    "input = 28*28\n",
    "output = 10 \n",
    "hidden = 10\n",
    "\n",
    "model_0 = FashionMINIST(input_units=input,hidden_units=hidden,output_units=output)\n",
    "model_0"
   ]
  },
  {
   "cell_type": "code",
   "execution_count": 15,
   "id": "2d8a65b7",
   "metadata": {},
   "outputs": [
    {
     "data": {
      "text/plain": [
       "tensor([[-0.0242,  0.2596,  0.5777,  0.1911, -0.2229, -0.2189, -0.1454,  0.2656,\n",
       "         -0.2845,  0.2090]], grad_fn=<AddmmBackward0>)"
      ]
     },
     "execution_count": 15,
     "metadata": {},
     "output_type": "execute_result"
    }
   ],
   "source": [
    "dummy_input = batch_image\n",
    "model_0(dummy_input)"
   ]
  },
  {
   "cell_type": "markdown",
   "id": "aed45d77",
   "metadata": {},
   "source": [
    "### Setting Up loss and optimizer"
   ]
  },
  {
   "cell_type": "code",
   "execution_count": 16,
   "id": "1a7a76c3",
   "metadata": {},
   "outputs": [],
   "source": [
    "loss_fn = nn.CrossEntropyLoss()\n",
    "\n",
    "optimizer = torch.optim.SGD(model_0.parameters(),lr=0.1)"
   ]
  },
  {
   "cell_type": "code",
   "execution_count": 17,
   "id": "dd303096",
   "metadata": {},
   "outputs": [],
   "source": [
    "def print_train_time(start, end, device=None):\n",
    "    total_time = end - start\n",
    "    print(f\"Training time on {device}: {total_time:.3f} seconds\")\n",
    "    return total_time"
   ]
  },
  {
   "cell_type": "markdown",
   "id": "bedd84af",
   "metadata": {},
   "source": [
    "### Training and Testing the model\n",
    "\n",
    "1. Loop through epochs.\n",
    "\n",
    "2. Loop through training batches, perform training steps, calculate the train loss per batch.\n",
    "\n",
    "3. Loop through testing batches, perform testing steps, calculate the test loss per batch.\n",
    "\n",
    "4. Print out what's happening.\n",
    "\n",
    "5. Time it all (for fun)."
   ]
  },
  {
   "cell_type": "code",
   "execution_count": 18,
   "id": "60e6bc88",
   "metadata": {},
   "outputs": [
    {
     "name": "stdout",
     "output_type": "stream",
     "text": [
      "Using device: cuda\n"
     ]
    }
   ],
   "source": [
    "import torch\n",
    "\n",
    "# Use GPU if available, else fallback to CPU\n",
    "device = torch.device(\"cuda\" if torch.cuda.is_available() else \"cpu\")\n",
    "print(f\"Using device: {device}\")\n",
    "\n",
    "model_0 = model_0.to(device)\n",
    "\n"
   ]
  },
  {
   "cell_type": "markdown",
   "id": "f411c53a",
   "metadata": {},
   "source": [
    "##### ⏳ `tqdm` – Progress Bars for Python\n",
    "\n",
    "**`tqdm`** is a Python library that adds a **fast, extensible progress bar** to loops. It helps track the progress of tasks like data processing, downloads, or model training"
   ]
  },
  {
   "cell_type": "code",
   "execution_count": 19,
   "id": "a2eb644e",
   "metadata": {},
   "outputs": [
    {
     "name": "stderr",
     "output_type": "stream",
     "text": [
      "c:\\Users\\Dell\\torch_env\\Lib\\site-packages\\tqdm\\auto.py:21: TqdmWarning: IProgress not found. Please update jupyter and ipywidgets. See https://ipywidgets.readthedocs.io/en/stable/user_install.html\n",
      "  from .autonotebook import tqdm as notebook_tqdm\n",
      "100%|██████████| 10/10 [00:01<00:00,  9.85it/s]\n"
     ]
    }
   ],
   "source": [
    "from tqdm.auto import tqdm\n",
    "import time\n",
    "\n",
    "for i in tqdm(range(10)):\n",
    "    time.sleep(0.1)  # simulate a task\n"
   ]
  },
  {
   "cell_type": "code",
   "execution_count": 20,
   "id": "72a6c3ce",
   "metadata": {},
   "outputs": [
    {
     "name": "stderr",
     "output_type": "stream",
     "text": [
      "  0%|          | 0/3 [00:00<?, ?it/s]"
     ]
    },
    {
     "name": "stdout",
     "output_type": "stream",
     "text": [
      "epoch = 0 /--------\n",
      "\n",
      "Looked at 0/60000 samples\n",
      "Looked at 12800/60000 samples\n",
      "Looked at 25600/60000 samples\n",
      "Looked at 38400/60000 samples\n",
      "Looked at 51200/60000 samples\n"
     ]
    },
    {
     "name": "stderr",
     "output_type": "stream",
     "text": [
      " 33%|███▎      | 1/3 [00:10<00:21, 10.91s/it]"
     ]
    },
    {
     "name": "stdout",
     "output_type": "stream",
     "text": [
      "\n",
      "Train loss: 0.59460 | Test loss: 0.51693, Test acc: 81.91%\n",
      "\n",
      "epoch = 1 /--------\n",
      "\n",
      "Looked at 0/60000 samples\n",
      "Looked at 12800/60000 samples\n",
      "Looked at 25600/60000 samples\n",
      "Looked at 38400/60000 samples\n",
      "Looked at 51200/60000 samples\n"
     ]
    },
    {
     "name": "stderr",
     "output_type": "stream",
     "text": [
      " 67%|██████▋   | 2/3 [00:21<00:10, 10.67s/it]"
     ]
    },
    {
     "name": "stdout",
     "output_type": "stream",
     "text": [
      "\n",
      "Train loss: 0.48037 | Test loss: 0.48837, Test acc: 82.76%\n",
      "\n",
      "epoch = 2 /--------\n",
      "\n",
      "Looked at 0/60000 samples\n",
      "Looked at 12800/60000 samples\n",
      "Looked at 25600/60000 samples\n",
      "Looked at 38400/60000 samples\n",
      "Looked at 51200/60000 samples\n"
     ]
    },
    {
     "name": "stderr",
     "output_type": "stream",
     "text": [
      "100%|██████████| 3/3 [00:31<00:00, 10.64s/it]"
     ]
    },
    {
     "name": "stdout",
     "output_type": "stream",
     "text": [
      "\n",
      "Train loss: 0.45758 | Test loss: 0.47873, Test acc: 83.36%\n",
      "\n",
      "Training time on cuda:0: 31.935 seconds\n"
     ]
    },
    {
     "name": "stderr",
     "output_type": "stream",
     "text": [
      "\n"
     ]
    }
   ],
   "source": [
    "from torchmetrics import Accuracy\n",
    "from timeit import default_timer\n",
    "torch.manual_seed(42)\n",
    "\n",
    "accuracy = Accuracy(task='multiclass' , num_classes=10).to(device)\n",
    "\n",
    "train_time_start_on_cpu = default_timer()\n",
    "\n",
    "epochs = 3\n",
    "\n",
    "for epoch in tqdm(range(epochs)):\n",
    "    print(f\"epoch = {epoch} /--------\\n\")\n",
    "    train_loss = 0\n",
    "\n",
    "    train_acc = 0\n",
    "\n",
    "    tot_test_loss = 0\n",
    "\n",
    "    test_acc = 0\n",
    "    \n",
    "    for batch , (X,y) in enumerate(train_data_loader):\n",
    "\n",
    "        X = X.to(device)\n",
    "        y = y.to(device)\n",
    "\n",
    "        model_0.train()\n",
    "\n",
    "        y_logits = model_0(X)\n",
    "        y_pred = torch.softmax(y_logits,dim=1).argmax(dim=1)\n",
    "\n",
    "        loss = loss_fn(y_logits,y)\n",
    "\n",
    "        optimizer.zero_grad()\n",
    "\n",
    "        loss.backward()\n",
    "\n",
    "        optimizer.step()\n",
    "\n",
    "        train_loss += loss\n",
    "        \n",
    "        train_acc += accuracy(y_pred,y)\n",
    "\n",
    "        if batch % 400 == 0:\n",
    "            print(f\"Looked at {batch * len(X)}/{len(train_data_loader.dataset)} samples\")\n",
    "\n",
    "\n",
    "    for batch , (X_test , y_test) in enumerate(test_data_loader):\n",
    "\n",
    "        X_test = X_test.to(device)\n",
    "        y_test = y_test.to(device)\n",
    "\n",
    "        model_0.eval()\n",
    "\n",
    "        with torch.inference_mode():\n",
    "            y_test_logits = model_0(X_test)\n",
    "            y_test_pred = torch.softmax(y_test_logits,dim=1).argmax(dim = 1)\n",
    "\n",
    "            test_loss = loss_fn(y_test_logits,y_test)\n",
    "\n",
    "        test_acc += accuracy(y_test_pred,y_test)\n",
    "\n",
    "        tot_test_loss += test_loss\n",
    "    \n",
    "    avg_train_loss = train_loss / len(train_data_loader)\n",
    "    \n",
    "    avg_accuracy = (train_acc / len(train_data_loader))*100\n",
    "\n",
    "    avg_test_loss  = tot_test_loss / len(test_data_loader)\n",
    "\n",
    "    avg_test_acc = (test_acc / len(test_data_loader))*100\n",
    "\n",
    "    print(f\"\\nTrain loss: {avg_train_loss:.5f} | Test loss: {avg_test_loss:.5f}, Test acc: {avg_test_acc:.2f}%\\n\")\n",
    "\n",
    "train_time_end_on_cpu = default_timer()\n",
    "total_train_time_model_0 = print_train_time(start=train_time_start_on_cpu, \n",
    "                                           end=train_time_end_on_cpu,\n",
    "                                           device=str(next(model_0.parameters()).device))\n",
    "\n",
    "\n",
    "\n",
    "        \n",
    "        \n",
    "\n",
    "        \n"
   ]
  },
  {
   "cell_type": "code",
   "execution_count": 21,
   "id": "b722a033",
   "metadata": {},
   "outputs": [
    {
     "name": "stdout",
     "output_type": "stream",
     "text": [
      "cuda:0\n"
     ]
    }
   ],
   "source": [
    "print(next(model_0.parameters()).device)\n",
    "\n"
   ]
  },
  {
   "cell_type": "code",
   "execution_count": 22,
   "id": "6d587226",
   "metadata": {},
   "outputs": [
    {
     "data": {
      "text/plain": [
       "{'model_name': 'FashionMINIST',\n",
       " 'model_loss': 0.47873246669769287,\n",
       " 'model_acc': 82.26616668701172}"
      ]
     },
     "execution_count": 22,
     "metadata": {},
     "output_type": "execute_result"
    }
   ],
   "source": [
    "from torchmetrics.classification import MulticlassAccuracy\n",
    "\n",
    "torch.manual_seed(42)\n",
    "def eval_model(model: torch.nn.Module, \n",
    "               data_loader: torch.utils.data.DataLoader, \n",
    "               loss_fn: torch.nn.Module):\n",
    "    \"\"\"Returns a dictionary containing the results of model predicting on data_loader.\n",
    "\n",
    "    Args:\n",
    "        model (torch.nn.Module): A PyTorch model capable of making predictions on data_loader.\n",
    "        data_loader (torch.utils.data.DataLoader): The target dataset to predict on.\n",
    "        loss_fn (torch.nn.Module): The loss function of model.\n",
    "        accuracy_fn: An accuracy function to compare the models predictions to the truth labels.\n",
    "\n",
    "    Returns:\n",
    "        (dict): Results of model making predictions on data_loader.\n",
    "    \"\"\"\n",
    "    accuracy = MulticlassAccuracy(num_classes=10).to(device)\n",
    "    loss, acc = 0, 0\n",
    "    model.eval()\n",
    "    with torch.inference_mode():\n",
    "        for X, y in data_loader:\n",
    "\n",
    "            X = X.to(device)\n",
    "            y = y.to(device)\n",
    "            # Make predictions with the model\n",
    "            y_pred = model(X)\n",
    "            \n",
    "            accuracy_1 = (accuracy(y_pred,y))*100\n",
    "            # Accumulate the loss and accuracy values per batch\n",
    "            loss += loss_fn(y_pred, y)\n",
    "            acc += accuracy_1 # For accuracy, need the prediction labels (logits -> pred_prob -> pred_labels)\n",
    "        \n",
    "        # Scale loss and acc to find the average loss/acc per batch\n",
    "        loss /= len(data_loader)\n",
    "        acc /= len(data_loader)\n",
    "        \n",
    "    return {\"model_name\": model.__class__.__name__, # only works when model was created with a class\n",
    "            \"model_loss\": loss.item(),\n",
    "            \"model_acc\": acc.item()}\n",
    "\n",
    "# Calculate model 0 results on test dataset\n",
    "model_0_results = eval_model(model=model_0, data_loader=test_data_loader,\n",
    "    loss_fn=loss_fn)\n",
    "model_0_results"
   ]
  },
  {
   "cell_type": "code",
   "execution_count": 23,
   "id": "5b9dc4ab",
   "metadata": {},
   "outputs": [
    {
     "name": "stdout",
     "output_type": "stream",
     "text": [
      "Wed Jun 25 19:52:35 2025       \n",
      "+-----------------------------------------------------------------------------------------+\n",
      "| NVIDIA-SMI 572.83                 Driver Version: 572.83         CUDA Version: 12.8     |\n",
      "|-----------------------------------------+------------------------+----------------------+\n",
      "| GPU  Name                  Driver-Model | Bus-Id          Disp.A | Volatile Uncorr. ECC |\n",
      "| Fan  Temp   Perf          Pwr:Usage/Cap |           Memory-Usage | GPU-Util  Compute M. |\n",
      "|                                         |                        |               MIG M. |\n",
      "|=========================================+========================+======================|\n",
      "|   0  NVIDIA GeForce RTX 3050 ...  WDDM  |   00000000:01:00.0 Off |                  N/A |\n",
      "| N/A   49C    P8              8W /   35W |     165MiB /   4096MiB |     28%      Default |\n",
      "|                                         |                        |                  N/A |\n",
      "+-----------------------------------------+------------------------+----------------------+\n",
      "                                                                                         \n",
      "+-----------------------------------------------------------------------------------------+\n",
      "| Processes:                                                                              |\n",
      "|  GPU   GI   CI              PID   Type   Process name                        GPU Memory |\n",
      "|        ID   ID                                                               Usage      |\n",
      "|=========================================================================================|\n",
      "|    0   N/A  N/A            4908      C   ...s\\Python\\Python313\\python.exe      N/A      |\n",
      "|    0   N/A  N/A           24236    C+G   ...Browser\\Application\\brave.exe      N/A      |\n",
      "+-----------------------------------------------------------------------------------------+\n"
     ]
    }
   ],
   "source": [
    "!nvidia-smi"
   ]
  },
  {
   "cell_type": "code",
   "execution_count": 24,
   "id": "cda97f3f",
   "metadata": {},
   "outputs": [
    {
     "name": "stdout",
     "output_type": "stream",
     "text": [
      "The device we are using cuda\n"
     ]
    }
   ],
   "source": [
    "device = torch.device(\"cuda\" if torch.cuda.is_available() else \"cpu\")\n",
    "print(f\"The device we are using {device}\")\n",
    "\n"
   ]
  },
  {
   "cell_type": "markdown",
   "id": "08d5da6f",
   "metadata": {},
   "source": [
    "### Let's Create a Non Linear Model for Fashion MNIST"
   ]
  },
  {
   "cell_type": "code",
   "execution_count": 25,
   "id": "01363556",
   "metadata": {},
   "outputs": [],
   "source": [
    "# Build a Model\n",
    "\n",
    "class FashionMNISTv1(nn.Module):\n",
    "    def __init__(self,\n",
    "                 input_unit,\n",
    "                 output_unit,\n",
    "                 hidden_unit):\n",
    "        super().__init__()\n",
    "        self.layer_stack = nn.Sequential(\n",
    "            nn.Flatten(),\n",
    "            nn.Linear(in_features=input_unit,out_features=hidden_unit),\n",
    "            nn.ReLU(),\n",
    "            nn.Linear(in_features=hidden_unit,out_features=hidden_unit),\n",
    "            nn.ReLU(),\n",
    "            nn.Linear(in_features=hidden_unit,out_features=output_unit)\n",
    "        )\n",
    "    def forward(self,x):\n",
    "        return self.layer_stack(x)\n",
    "        \n",
    "    "
   ]
  },
  {
   "cell_type": "code",
   "execution_count": 26,
   "id": "e75d227a",
   "metadata": {},
   "outputs": [
    {
     "name": "stdout",
     "output_type": "stream",
     "text": [
      "Shape of the input data is torch.Size([32, 1, 28, 28])\n"
     ]
    }
   ],
   "source": [
    "BATCH_SIZE = 32\n",
    "\n",
    "batch = next(iter(test_data_loader))\n",
    "\n",
    "images , labels = batch\n",
    "\n",
    "shape_of_images = images.shape\n",
    "\n",
    "print(f\"Shape of the input data is {shape_of_images}\")\n",
    "\n"
   ]
  },
  {
   "cell_type": "code",
   "execution_count": 27,
   "id": "11ab7353",
   "metadata": {},
   "outputs": [
    {
     "name": "stdout",
     "output_type": "stream",
     "text": [
      "input : 784\n",
      "Outputunits: 10\n",
      "Hidden units :8\n"
     ]
    },
    {
     "data": {
      "text/plain": [
       "OrderedDict([('layer_stack.1.weight',\n",
       "              tensor([[-0.0078,  0.0072, -0.0174,  ..., -0.0354,  0.0187,  0.0085],\n",
       "                      [-0.0182,  0.0344, -0.0162,  ...,  0.0017,  0.0045,  0.0133],\n",
       "                      [-0.0108, -0.0213,  0.0084,  ...,  0.0273, -0.0081,  0.0026],\n",
       "                      ...,\n",
       "                      [ 0.0350, -0.0151, -0.0171,  ...,  0.0005,  0.0119,  0.0352],\n",
       "                      [-0.0116, -0.0145,  0.0259,  ...,  0.0273, -0.0344,  0.0127],\n",
       "                      [-0.0325,  0.0155,  0.0087,  ...,  0.0257,  0.0291,  0.0243]],\n",
       "                     device='cuda:0')),\n",
       "             ('layer_stack.1.bias',\n",
       "              tensor([-0.0006,  0.0088,  0.0018, -0.0136, -0.0354, -0.0044,  0.0154,  0.0208],\n",
       "                     device='cuda:0')),\n",
       "             ('layer_stack.3.weight',\n",
       "              tensor([[ 0.0841,  0.1612,  0.2213, -0.0684,  0.2309, -0.0074, -0.1252, -0.1373],\n",
       "                      [-0.2061, -0.2723,  0.0810,  0.3267,  0.0503,  0.0478, -0.1326, -0.1394],\n",
       "                      [-0.1108,  0.1224,  0.0610, -0.1299,  0.0693, -0.0618, -0.0241,  0.2507],\n",
       "                      [-0.1473,  0.3299, -0.1934,  0.3276,  0.1328,  0.1420, -0.0809, -0.0964],\n",
       "                      [-0.2586, -0.3390,  0.2475,  0.3430,  0.1014, -0.1383,  0.0776, -0.0132],\n",
       "                      [-0.3056, -0.2832,  0.1228, -0.1032, -0.0841, -0.2132,  0.1559, -0.1784],\n",
       "                      [-0.1129,  0.1892,  0.3399,  0.3152,  0.1392,  0.0126,  0.2657,  0.3126],\n",
       "                      [ 0.1587,  0.1039,  0.0853,  0.0360,  0.2334,  0.1000, -0.2981, -0.2088]],\n",
       "                     device='cuda:0')),\n",
       "             ('layer_stack.3.bias',\n",
       "              tensor([-0.3211, -0.1063,  0.0181, -0.1499, -0.3252, -0.2299,  0.1505, -0.0249],\n",
       "                     device='cuda:0')),\n",
       "             ('layer_stack.5.weight',\n",
       "              tensor([[-0.0593,  0.0572, -0.0747, -0.1927, -0.1622, -0.1441, -0.3309, -0.3261],\n",
       "                      [-0.1340,  0.1327,  0.3458, -0.0096,  0.2414,  0.1169, -0.2816, -0.1769],\n",
       "                      [-0.0970, -0.2914,  0.0495,  0.0840, -0.2756, -0.0744, -0.3119,  0.3521],\n",
       "                      [ 0.2091, -0.1334,  0.3039, -0.2213,  0.2974, -0.1361,  0.1033,  0.2457],\n",
       "                      [ 0.1646,  0.0857, -0.0408,  0.0026,  0.3019, -0.1155, -0.1147,  0.0452],\n",
       "                      [-0.1715, -0.1337,  0.0276,  0.2659,  0.1153, -0.2185,  0.2135, -0.1302],\n",
       "                      [ 0.0912,  0.0208,  0.2525, -0.0790, -0.1437, -0.0704,  0.0032, -0.1668],\n",
       "                      [ 0.2430, -0.1896,  0.0559, -0.2714, -0.0439, -0.0762, -0.1414,  0.1848],\n",
       "                      [-0.3157,  0.0371, -0.0331, -0.1839,  0.2749,  0.2219,  0.1068,  0.0069],\n",
       "                      [ 0.1960, -0.1553, -0.2877,  0.3393, -0.1323,  0.0709,  0.0071,  0.2976]],\n",
       "                     device='cuda:0')),\n",
       "             ('layer_stack.5.bias',\n",
       "              tensor([ 0.3517, -0.2379, -0.0038, -0.2866,  0.2284,  0.3376, -0.1351,  0.0641,\n",
       "                      -0.0778, -0.0857], device='cuda:0'))])"
      ]
     },
     "execution_count": 27,
     "metadata": {},
     "output_type": "execute_result"
    }
   ],
   "source": [
    "input = 28*28\n",
    "print(f\"input : {input}\")\n",
    "output = len(train_data_classes)\n",
    "print(f\"Outputunits: {output}\")\n",
    "hidden = 8\n",
    "print(f\"Hidden units :{hidden}\")\n",
    "\n",
    "\n",
    "model_1 = FashionMNISTv1(input_unit=input,hidden_unit=hidden,output_unit=output)\n",
    "\n",
    "model_1.to(device)\n",
    "\n",
    "model_1.state_dict()"
   ]
  },
  {
   "cell_type": "code",
   "execution_count": 28,
   "id": "b2fbf388",
   "metadata": {},
   "outputs": [],
   "source": [
    "loss_fn = nn.CrossEntropyLoss()\n",
    "\n",
    "optimizer = torch.optim.SGD(model_1.parameters(),lr=0.1)"
   ]
  },
  {
   "cell_type": "code",
   "execution_count": 29,
   "id": "285ed2b9",
   "metadata": {},
   "outputs": [
    {
     "name": "stdout",
     "output_type": "stream",
     "text": [
      "Loss :2.340871810913086 | accuracy :9.375\n"
     ]
    }
   ],
   "source": [
    "from torchmetrics import Accuracy\n",
    "\n",
    "accuracy = Accuracy(task='multiclass' , num_classes=10).to(device)\n",
    "\n",
    "with torch.inference_mode():\n",
    "    images= images.to(device)\n",
    "    labels = labels.to(device)\n",
    "    y_logits = model_1(images)\n",
    "    y_preds = torch.softmax(y_logits,dim=1).argmax(dim=1)\n",
    "\n",
    "    loss = loss_fn(y_logits,labels)\n",
    "\n",
    "    accuracy_x = accuracy(y_preds ,labels)\n",
    "\n",
    "print(f\"Loss :{loss} | accuracy :{accuracy_x*100}\")\n",
    "\n",
    "\n"
   ]
  },
  {
   "cell_type": "code",
   "execution_count": 30,
   "id": "cb2d86d4",
   "metadata": {},
   "outputs": [
    {
     "name": "stderr",
     "output_type": "stream",
     "text": [
      "  0%|          | 0/3 [00:00<?, ?it/s]"
     ]
    },
    {
     "name": "stdout",
     "output_type": "stream",
     "text": [
      "epoch = 0 /--------\n",
      "\n",
      "Looked at 0/60000 samples\n",
      "Looked at 12800/60000 samples\n",
      "Looked at 25600/60000 samples\n",
      "Looked at 38400/60000 samples\n",
      "Looked at 51200/60000 samples\n"
     ]
    },
    {
     "name": "stderr",
     "output_type": "stream",
     "text": [
      " 33%|███▎      | 1/3 [00:11<00:22, 11.04s/it]"
     ]
    },
    {
     "name": "stdout",
     "output_type": "stream",
     "text": [
      "\n",
      "Train loss: 0.77433 | Test loss: 0.59434, Test acc: 79.42%\n",
      "\n",
      "epoch = 1 /--------\n",
      "\n",
      "Looked at 0/60000 samples\n",
      "Looked at 12800/60000 samples\n",
      "Looked at 25600/60000 samples\n",
      "Looked at 38400/60000 samples\n",
      "Looked at 51200/60000 samples\n"
     ]
    },
    {
     "name": "stderr",
     "output_type": "stream",
     "text": [
      " 67%|██████▋   | 2/3 [00:21<00:10, 10.89s/it]"
     ]
    },
    {
     "name": "stdout",
     "output_type": "stream",
     "text": [
      "\n",
      "Train loss: 0.51298 | Test loss: 0.53998, Test acc: 80.51%\n",
      "\n",
      "epoch = 2 /--------\n",
      "\n",
      "Looked at 0/60000 samples\n",
      "Looked at 12800/60000 samples\n",
      "Looked at 25600/60000 samples\n",
      "Looked at 38400/60000 samples\n",
      "Looked at 51200/60000 samples\n"
     ]
    },
    {
     "name": "stderr",
     "output_type": "stream",
     "text": [
      "100%|██████████| 3/3 [00:32<00:00, 10.91s/it]"
     ]
    },
    {
     "name": "stdout",
     "output_type": "stream",
     "text": [
      "\n",
      "Train loss: 0.47417 | Test loss: 0.51180, Test acc: 82.08%\n",
      "\n",
      "Training time on cuda:0: 32.743 seconds\n"
     ]
    },
    {
     "name": "stderr",
     "output_type": "stream",
     "text": [
      "\n"
     ]
    }
   ],
   "source": [
    "from torchmetrics import Accuracy\n",
    "from timeit import default_timer\n",
    "torch.manual_seed(42)\n",
    "\n",
    "accuracy = Accuracy(task='multiclass' , num_classes=10).to(device)\n",
    "\n",
    "train_time_start_on_cpu = default_timer()\n",
    "\n",
    "epochs = 3\n",
    "\n",
    "for epoch in tqdm(range(epochs)):\n",
    "    print(f\"epoch = {epoch} /--------\\n\")\n",
    "    train_loss = 0\n",
    "\n",
    "    train_acc = 0\n",
    "\n",
    "    tot_test_loss = 0\n",
    "\n",
    "    test_acc = 0\n",
    "    \n",
    "    for batch , (X,y) in enumerate(train_data_loader):\n",
    "\n",
    "        X = X.to(device)\n",
    "        y = y.to(device)\n",
    "\n",
    "        model_1.train()\n",
    "\n",
    "        y_logits = model_1(X)\n",
    "        y_pred = torch.softmax(y_logits,dim=1).argmax(dim=1)\n",
    "\n",
    "        loss = loss_fn(y_logits,y)\n",
    "\n",
    "        optimizer.zero_grad()\n",
    "\n",
    "        loss.backward()\n",
    "\n",
    "        optimizer.step()\n",
    "\n",
    "        train_loss += loss\n",
    "        \n",
    "        train_acc += accuracy(y_pred,y)\n",
    "\n",
    "        if batch % 400 == 0:\n",
    "            print(f\"Looked at {batch * len(X)}/{len(train_data_loader.dataset)} samples\")\n",
    "\n",
    "\n",
    "    for batch , (X_test , y_test) in enumerate(test_data_loader):\n",
    "\n",
    "        X_test = X_test.to(device)\n",
    "        y_test = y_test.to(device)\n",
    "\n",
    "        model_1.eval()\n",
    "\n",
    "        with torch.inference_mode():\n",
    "            y_test_logits = model_1(X_test)\n",
    "            y_test_pred = torch.softmax(y_test_logits,dim=1).argmax(dim = 1)\n",
    "\n",
    "            test_loss = loss_fn(y_test_logits,y_test)\n",
    "\n",
    "        test_acc += accuracy(y_test_pred,y_test)\n",
    "\n",
    "        tot_test_loss += test_loss\n",
    "    \n",
    "    avg_train_loss = train_loss / len(train_data_loader)\n",
    "    \n",
    "    avg_accuracy = (train_acc / len(train_data_loader))*100\n",
    "\n",
    "    avg_test_loss  = tot_test_loss / len(test_data_loader)\n",
    "\n",
    "    avg_test_acc = (test_acc / len(test_data_loader))*100\n",
    "\n",
    "    print(f\"\\nTrain loss: {avg_train_loss:.5f} | Test loss: {avg_test_loss:.5f}, Test acc: {avg_test_acc:.2f}%\\n\")\n",
    "\n",
    "train_time_end_on_cpu = default_timer()\n",
    "total_train_time_model_0 = print_train_time(start=train_time_start_on_cpu, \n",
    "                                           end=train_time_end_on_cpu,\n",
    "                                           device=str(next(model_0.parameters()).device))\n",
    "\n",
    "\n",
    "\n",
    "        \n",
    "        \n",
    "\n",
    "        \n"
   ]
  },
  {
   "cell_type": "code",
   "execution_count": 31,
   "id": "cb622f0d",
   "metadata": {},
   "outputs": [
    {
     "data": {
      "text/plain": [
       "{'model_name': 'FashionMNISTv1',\n",
       " 'model_loss': 0.511804461479187,\n",
       " 'model_acc': 80.8974838256836}"
      ]
     },
     "execution_count": 31,
     "metadata": {},
     "output_type": "execute_result"
    }
   ],
   "source": [
    "model_1_results = eval_model(model_1,test_data_loader,loss_fn)\n",
    "model_1_results"
   ]
  },
  {
   "cell_type": "markdown",
   "id": "2cfbbd7a",
   "metadata": {},
   "source": [
    "### Lets make the Training and Testing loops as functions"
   ]
  },
  {
   "cell_type": "code",
   "execution_count": 32,
   "id": "1bab7ff2",
   "metadata": {},
   "outputs": [],
   "source": [
    "import torchmetrics\n",
    "def train_loop(epochs,\n",
    "            model : torch.nn.Module,\n",
    "            train_data : torch.utils.data.Dataset,\n",
    "            loss_fn,\n",
    "            optimizer:torch.optim,\n",
    "            accuracy : torchmetrics.Accuracy):\n",
    "\n",
    "    for epoch in tqdm(range(epochs)):\n",
    "        print(f\"epoch = {epoch} /--------\\n\")\n",
    "        train_loss = 0\n",
    "\n",
    "        train_acc = 0\n",
    "        \n",
    "        for batch , (X,y) in enumerate(train_data):\n",
    "\n",
    "            X = X.to(device)\n",
    "            y = y.to(device)\n",
    "\n",
    "            model.train()\n",
    "\n",
    "            y_logits = model(X)\n",
    "            y_pred = torch.softmax(y_logits,dim=1).argmax(dim=1)\n",
    "\n",
    "            loss = loss_fn(y_logits,y)\n",
    "\n",
    "            optimizer.zero_grad()\n",
    "\n",
    "            loss.backward()\n",
    "\n",
    "            optimizer.step()\n",
    "\n",
    "            train_loss += loss\n",
    "            \n",
    "            train_acc += accuracy(y_pred,y)\n",
    "\n",
    "            if batch % 400 == 0:\n",
    "                print(f\"Looked at {batch * len(X)}/{len(train_data_loader.dataset)} samples\")\n",
    "        train_loss = train_loss/len(train_data)\n",
    "        train_acc = train_acc/len(train_data)\n",
    "        print(f\"Train Loss :{train_loss} | Train Accuracy :{train_acc*100}\")\n",
    "\n",
    "\n",
    "def test_loop(model : torch.nn.Module,\n",
    "        test_data : torch.utils.data.Dataset,\n",
    "        loss_fn,\n",
    "        accuracy : torchmetrics.Accuracy):\n",
    "\n",
    "    for epoch in tqdm(range(1)):\n",
    "        print(f\"epoch = {epoch} /--------\\n\")\n",
    "        test_loss = 0\n",
    "\n",
    "        test_acc = 0\n",
    "        \n",
    "        for batch , (X,y) in enumerate(test_data):\n",
    "\n",
    "            X = X.to(device)\n",
    "            y = y.to(device)\n",
    "\n",
    "            model.eval()\n",
    "\n",
    "            y_logits = model(X)\n",
    "            y_pred = torch.softmax(y_logits,dim=1).argmax(dim=1)\n",
    "\n",
    "            loss = loss_fn(y_logits,y)\n",
    "\n",
    "            test_loss += loss\n",
    "            \n",
    "            test_acc += accuracy(y_pred,y)\n",
    "\n",
    "            if batch % 400 == 0:\n",
    "                print(f\"Looked at {batch * len(X)}/{len(test_data_loader.dataset)} samples\")\n",
    "        test_loss = test_loss/len(test_data)\n",
    "        test_acc = test_acc/len(test_data)\n",
    "        print(f\"Test Loss :{test_loss} | Test Accuracy :{test_acc*100}\")\n",
    "\n",
    "\n"
   ]
  },
  {
   "cell_type": "code",
   "execution_count": 33,
   "id": "19999857",
   "metadata": {},
   "outputs": [
    {
     "name": "stderr",
     "output_type": "stream",
     "text": [
      "  0%|          | 0/3 [00:00<?, ?it/s]"
     ]
    },
    {
     "name": "stdout",
     "output_type": "stream",
     "text": [
      "epoch = 0 /--------\n",
      "\n",
      "Looked at 0/60000 samples\n",
      "Looked at 12800/60000 samples\n",
      "Looked at 25600/60000 samples\n",
      "Looked at 38400/60000 samples\n",
      "Looked at 51200/60000 samples\n"
     ]
    },
    {
     "name": "stderr",
     "output_type": "stream",
     "text": [
      " 33%|███▎      | 1/3 [00:10<00:20, 10.26s/it]"
     ]
    },
    {
     "name": "stdout",
     "output_type": "stream",
     "text": [
      "Train Loss :0.4549766778945923 | Train Accuracy :83.70166778564453\n",
      "epoch = 1 /--------\n",
      "\n",
      "Looked at 0/60000 samples\n",
      "Looked at 12800/60000 samples\n",
      "Looked at 25600/60000 samples\n",
      "Looked at 38400/60000 samples\n",
      "Looked at 51200/60000 samples\n"
     ]
    },
    {
     "name": "stderr",
     "output_type": "stream",
     "text": [
      " 67%|██████▋   | 2/3 [00:21<00:10, 10.72s/it]"
     ]
    },
    {
     "name": "stdout",
     "output_type": "stream",
     "text": [
      "Train Loss :0.4442965090274811 | Train Accuracy :83.98500061035156\n",
      "epoch = 2 /--------\n",
      "\n",
      "Looked at 0/60000 samples\n",
      "Looked at 12800/60000 samples\n",
      "Looked at 25600/60000 samples\n",
      "Looked at 38400/60000 samples\n",
      "Looked at 51200/60000 samples\n"
     ]
    },
    {
     "name": "stderr",
     "output_type": "stream",
     "text": [
      "100%|██████████| 3/3 [00:32<00:00, 10.86s/it]\n"
     ]
    },
    {
     "name": "stdout",
     "output_type": "stream",
     "text": [
      "Train Loss :0.43592849373817444 | Train Accuracy :84.34166717529297\n"
     ]
    },
    {
     "name": "stderr",
     "output_type": "stream",
     "text": [
      "  0%|          | 0/1 [00:00<?, ?it/s]"
     ]
    },
    {
     "name": "stdout",
     "output_type": "stream",
     "text": [
      "epoch = 0 /--------\n",
      "\n",
      "Looked at 0/10000 samples\n"
     ]
    },
    {
     "name": "stderr",
     "output_type": "stream",
     "text": [
      "100%|██████████| 1/1 [00:01<00:00,  1.57s/it]"
     ]
    },
    {
     "name": "stdout",
     "output_type": "stream",
     "text": [
      "Test Loss :0.5072154998779297 | Test Accuracy :82.53793334960938\n"
     ]
    },
    {
     "name": "stderr",
     "output_type": "stream",
     "text": [
      "\n"
     ]
    }
   ],
   "source": [
    "train_loop(3,model_1,train_data_loader,loss_fn,optimizer,accuracy)\n",
    "test_loop(model_1,test_data_loader,loss_fn,accuracy)"
   ]
  },
  {
   "cell_type": "markdown",
   "id": "a7ce921b",
   "metadata": {},
   "source": [
    "#### Convolutional Neural network.(Tiny VGG)"
   ]
  },
  {
   "cell_type": "code",
   "execution_count": 34,
   "id": "b00ad756",
   "metadata": {},
   "outputs": [],
   "source": [
    "# Tiny VGG\n",
    "\n",
    "class ConvolutionalNN(nn.Module):\n",
    "    def __init__(self,\n",
    "                 input_units,\n",
    "                 hidden_units,\n",
    "                 output_units):\n",
    "        super().__init__()\n",
    "        self.Convolutional_1 = nn.Sequential(\n",
    "            nn.Conv2d(in_channels=input_units,\n",
    "                out_channels=hidden_units,\n",
    "                kernel_size=(3,3),\n",
    "                stride=1,\n",
    "                padding=1\n",
    "            ),\n",
    "            nn.ReLU(),\n",
    "            nn.Conv2d(in_channels=hidden_units,\n",
    "                out_channels=hidden_units,\n",
    "                kernel_size=(3,3),\n",
    "                stride=1,\n",
    "                padding=1),\n",
    "            nn.ReLU(),\n",
    "            nn.MaxPool2d(kernel_size=(2,2),\n",
    "                stride=2)\n",
    "        )\n",
    "        self.Convolutional_2 = nn.Sequential(\n",
    "            nn.Conv2d(in_channels=hidden_units,\n",
    "                out_channels=hidden_units,\n",
    "                kernel_size=(3,3),\n",
    "                padding=1),\n",
    "            nn.ReLU(),\n",
    "            nn.Conv2d(in_channels=hidden_units,\n",
    "                out_channels=hidden_units,\n",
    "                kernel_size=(3,3),\n",
    "                padding=1),\n",
    "            nn.ReLU(),\n",
    "            nn.MaxPool2d(kernel_size=(2,2))\n",
    "        )\n",
    "\n",
    "        self.classification_layer = nn.Sequential(\n",
    "            nn.Flatten(),\n",
    "            nn.Linear(in_features=hidden_units*7*7,out_features=output_units)\n",
    "        )\n",
    "    \n",
    "    def forward(self,x):\n",
    "        x = self.Convolutional_1(x)\n",
    "        x = self.Convolutional_2(x)\n",
    "        x = self.classification_layer(x)\n",
    "        return x"
   ]
  },
  {
   "cell_type": "code",
   "execution_count": 35,
   "id": "55d9c2d4",
   "metadata": {},
   "outputs": [],
   "source": [
    "model_3 = ConvolutionalNN(1,10,10).to(device)"
   ]
  },
  {
   "cell_type": "code",
   "execution_count": 36,
   "id": "d898bb87",
   "metadata": {},
   "outputs": [
    {
     "data": {
      "text/plain": [
       "OrderedDict([('Convolutional_1.0.weight',\n",
       "              tensor([[[[-0.1082,  0.2060,  0.0520],\n",
       "                        [ 0.2693,  0.0364, -0.1051],\n",
       "                        [ 0.0896, -0.0904,  0.1403]]],\n",
       "              \n",
       "              \n",
       "                      [[[ 0.2976,  0.1927, -0.1457],\n",
       "                        [ 0.1924,  0.0596,  0.1693],\n",
       "                        [-0.2032, -0.3300, -0.1288]]],\n",
       "              \n",
       "              \n",
       "                      [[[-0.2557,  0.2735,  0.0960],\n",
       "                        [ 0.1381,  0.1054, -0.0058],\n",
       "                        [ 0.2609, -0.2368,  0.0210]]],\n",
       "              \n",
       "              \n",
       "                      [[[-0.2275,  0.1028, -0.1148],\n",
       "                        [ 0.1021, -0.0694,  0.2765],\n",
       "                        [-0.1976, -0.1988, -0.1988]]],\n",
       "              \n",
       "              \n",
       "                      [[[ 0.2998,  0.1111,  0.3208],\n",
       "                        [-0.2751, -0.3306, -0.2608],\n",
       "                        [-0.2242,  0.1350,  0.1194]]],\n",
       "              \n",
       "              \n",
       "                      [[[ 0.2770, -0.1721, -0.2272],\n",
       "                        [ 0.1769, -0.1347,  0.2023],\n",
       "                        [-0.0791,  0.1907, -0.2590]]],\n",
       "              \n",
       "              \n",
       "                      [[[-0.1682,  0.1016,  0.0705],\n",
       "                        [-0.0850,  0.1987,  0.2266],\n",
       "                        [-0.2417, -0.1780,  0.3052]]],\n",
       "              \n",
       "              \n",
       "                      [[[-0.1125, -0.1182, -0.3225],\n",
       "                        [-0.1909,  0.0833, -0.0440],\n",
       "                        [-0.2420,  0.0078, -0.2277]]],\n",
       "              \n",
       "              \n",
       "                      [[[-0.2828, -0.1836, -0.2917],\n",
       "                        [-0.2122,  0.3332,  0.0630],\n",
       "                        [ 0.1027, -0.3109, -0.2189]]],\n",
       "              \n",
       "              \n",
       "                      [[[-0.1110,  0.0521, -0.2933],\n",
       "                        [-0.1436, -0.1996,  0.0009],\n",
       "                        [-0.1240, -0.0231, -0.2259]]]], device='cuda:0')),\n",
       "             ('Convolutional_1.0.bias',\n",
       "              tensor([-0.2288, -0.1945, -0.1141, -0.2631,  0.2795, -0.0662,  0.2868,  0.1039,\n",
       "                      -0.2823,  0.2307], device='cuda:0')),\n",
       "             ('Convolutional_1.2.weight',\n",
       "              tensor([[[[-0.0290, -0.0404, -0.0875],\n",
       "                        [-0.1048,  0.0302, -0.0230],\n",
       "                        [ 0.0410, -0.0865,  0.0783]],\n",
       "              \n",
       "                       [[-0.0774, -0.0182,  0.0220],\n",
       "                        [ 0.0544,  0.0851,  0.0960],\n",
       "                        [-0.0836,  0.0265, -0.0453]],\n",
       "              \n",
       "                       [[-0.0116, -0.0789,  0.0960],\n",
       "                        [-0.0774,  0.0563,  0.0370],\n",
       "                        [ 0.0343, -0.0570,  0.0958]],\n",
       "              \n",
       "                       [[ 0.0232,  0.0136, -0.0929],\n",
       "                        [ 0.0442, -0.0158, -0.0483],\n",
       "                        [ 0.0905,  0.0235, -0.0583]],\n",
       "              \n",
       "                       [[-0.0534, -0.0050,  0.0589],\n",
       "                        [-0.0269, -0.0601, -0.0361],\n",
       "                        [-0.0787,  0.0376,  0.0816]],\n",
       "              \n",
       "                       [[-0.0992,  0.0245,  0.0545],\n",
       "                        [ 0.0191, -0.0375,  0.0550],\n",
       "                        [ 0.0554,  0.0394, -0.0185]],\n",
       "              \n",
       "                       [[-0.0279,  0.0113, -0.0186],\n",
       "                        [-0.0314,  0.0674,  0.0906],\n",
       "                        [-0.0104, -0.0236,  0.0015]],\n",
       "              \n",
       "                       [[-0.0063,  0.0253,  0.0295],\n",
       "                        [-0.0957, -0.0389,  0.0888],\n",
       "                        [ 0.0411, -0.0052, -0.0636]],\n",
       "              \n",
       "                       [[-0.0645, -0.0944, -0.0344],\n",
       "                        [ 0.0356,  0.0672,  0.0487],\n",
       "                        [-0.0932, -0.0634, -0.0166]],\n",
       "              \n",
       "                       [[ 0.1020,  0.0152, -0.0273],\n",
       "                        [ 0.0436, -0.0401, -0.0682],\n",
       "                        [ 0.0769, -0.0479, -0.0211]]],\n",
       "              \n",
       "              \n",
       "                      [[[-0.1049,  0.0705,  0.0799],\n",
       "                        [ 0.0384, -0.0735, -0.1040],\n",
       "                        [-0.0856,  0.0786,  0.0506]],\n",
       "              \n",
       "                       [[ 0.0887,  0.0552,  0.0267],\n",
       "                        [-0.0010, -0.0802, -0.0903],\n",
       "                        [-0.0986,  0.0432, -0.0518]],\n",
       "              \n",
       "                       [[-0.0212, -0.0607, -0.0192],\n",
       "                        [-0.0742, -0.0689,  0.0350],\n",
       "                        [-0.0313,  0.0651, -0.0338]],\n",
       "              \n",
       "                       [[-0.0773, -0.0186, -0.0511],\n",
       "                        [-0.0322, -0.1003,  0.0590],\n",
       "                        [-0.0734,  0.0530,  0.0478]],\n",
       "              \n",
       "                       [[ 0.0753, -0.0809,  0.0758],\n",
       "                        [-0.0498,  0.0391,  0.0990],\n",
       "                        [-0.0149, -0.0008, -0.0243]],\n",
       "              \n",
       "                       [[-0.0880,  0.0506, -0.1046],\n",
       "                        [ 0.0654,  0.0789,  0.0997],\n",
       "                        [-0.0249, -0.0866,  0.0237]],\n",
       "              \n",
       "                       [[ 0.0582, -0.1049, -0.0239],\n",
       "                        [-0.0632, -0.0092, -0.0519],\n",
       "                        [-0.0431, -0.0335, -0.1002]],\n",
       "              \n",
       "                       [[ 0.0865,  0.0884, -0.0165],\n",
       "                        [-0.0120, -0.0430, -0.0952],\n",
       "                        [-0.1026,  0.0392, -0.0579]],\n",
       "              \n",
       "                       [[-0.0678, -0.0082, -0.0351],\n",
       "                        [-0.0341,  0.0034, -0.0224],\n",
       "                        [-0.0363, -0.0505, -0.0858]],\n",
       "              \n",
       "                       [[ 0.0884, -0.0422,  0.0279],\n",
       "                        [-0.0366,  0.0086,  0.0983],\n",
       "                        [ 0.0486, -0.0913,  0.0418]]],\n",
       "              \n",
       "              \n",
       "                      [[[ 0.1001,  0.0277,  0.0707],\n",
       "                        [ 0.1039, -0.0162,  0.0219],\n",
       "                        [-0.0733, -0.0217,  0.0781]],\n",
       "              \n",
       "                       [[ 0.0540, -0.0667, -0.0845],\n",
       "                        [-0.0720, -0.1040, -0.0813],\n",
       "                        [-0.0261,  0.0711,  0.0176]],\n",
       "              \n",
       "                       [[-0.0802, -0.0846,  0.0524],\n",
       "                        [-0.0784, -0.0130,  0.0506],\n",
       "                        [-0.0488, -0.0115, -0.0092]],\n",
       "              \n",
       "                       [[-0.0249, -0.0534, -0.0940],\n",
       "                        [-0.0852, -0.0564,  0.1018],\n",
       "                        [-0.0509, -0.0708,  0.0256]],\n",
       "              \n",
       "                       [[ 0.0291,  0.0578,  0.0801],\n",
       "                        [ 0.0587, -0.1045,  0.0093],\n",
       "                        [ 0.0639, -0.0097, -0.0621]],\n",
       "              \n",
       "                       [[ 0.1005, -0.0394, -0.0600],\n",
       "                        [-0.0950,  0.0047,  0.0467],\n",
       "                        [ 0.0233,  0.0208, -0.0799]],\n",
       "              \n",
       "                       [[-0.0984,  0.0019,  0.0961],\n",
       "                        [ 0.0608, -0.0614, -0.0137],\n",
       "                        [-0.0777, -0.0509,  0.0191]],\n",
       "              \n",
       "                       [[ 0.0574,  0.0873, -0.0968],\n",
       "                        [ 0.0705, -0.0743,  0.0395],\n",
       "                        [ 0.0892,  0.0015,  0.0959]],\n",
       "              \n",
       "                       [[-0.0898, -0.0403,  0.0615],\n",
       "                        [-0.0230, -0.0216, -0.0439],\n",
       "                        [ 0.0727,  0.0517,  0.0338]],\n",
       "              \n",
       "                       [[-0.0592, -0.0856,  0.0114],\n",
       "                        [ 0.0312, -0.0487, -0.0295],\n",
       "                        [ 0.0712,  0.0084,  0.0048]]],\n",
       "              \n",
       "              \n",
       "                      [[[-0.0259, -0.0955, -0.0991],\n",
       "                        [-0.0504, -0.0536,  0.0328],\n",
       "                        [-0.0307, -0.0412,  0.1005]],\n",
       "              \n",
       "                       [[ 0.0367,  0.0751, -0.0510],\n",
       "                        [-0.0431,  0.0387, -0.0702],\n",
       "                        [-0.0689, -0.0051, -0.0386]],\n",
       "              \n",
       "                       [[-0.0790,  0.0625,  0.0848],\n",
       "                        [ 0.0171, -0.0184, -0.0976],\n",
       "                        [-0.0384,  0.0268,  0.0497]],\n",
       "              \n",
       "                       [[-0.0133, -0.0417,  0.0587],\n",
       "                        [-0.0839,  0.0666, -0.0409],\n",
       "                        [ 0.0016, -0.0208,  0.0128]],\n",
       "              \n",
       "                       [[-0.0319,  0.0766, -0.0027],\n",
       "                        [ 0.0823,  0.1013, -0.0514],\n",
       "                        [-0.0769,  0.0846,  0.0826]],\n",
       "              \n",
       "                       [[-0.0805, -0.0081, -0.1039],\n",
       "                        [-0.0863,  0.0204,  0.0280],\n",
       "                        [ 0.0223, -0.0287,  0.0972]],\n",
       "              \n",
       "                       [[ 0.0151, -0.0622, -0.0060],\n",
       "                        [ 0.0253,  0.0369, -0.0745],\n",
       "                        [ 0.0395, -0.0539, -0.0876]],\n",
       "              \n",
       "                       [[-0.0576,  0.1017,  0.0901],\n",
       "                        [ 0.0944,  0.0619,  0.0796],\n",
       "                        [-0.0141, -0.0580,  0.0527]],\n",
       "              \n",
       "                       [[-0.0546, -0.0711, -0.0337],\n",
       "                        [ 0.0221,  0.0543, -0.0409],\n",
       "                        [-0.0620,  0.0142, -0.0621]],\n",
       "              \n",
       "                       [[-0.0686,  0.0549, -0.0177],\n",
       "                        [ 0.0963,  0.1025,  0.0315],\n",
       "                        [ 0.0363,  0.0243,  0.0017]]],\n",
       "              \n",
       "              \n",
       "                      [[[-0.0077,  0.0014,  0.0394],\n",
       "                        [ 0.0980, -0.0273, -0.0446],\n",
       "                        [-0.0255, -0.0509,  0.0179]],\n",
       "              \n",
       "                       [[ 0.0787,  0.0824,  0.0484],\n",
       "                        [-0.0776, -0.0566, -0.0232],\n",
       "                        [-0.0194,  0.0087, -0.0968]],\n",
       "              \n",
       "                       [[ 0.0328, -0.0804, -0.0667],\n",
       "                        [-0.0876,  0.0918, -0.0998],\n",
       "                        [ 0.0795, -0.0035, -0.0123]],\n",
       "              \n",
       "                       [[ 0.0659, -0.0097,  0.0661],\n",
       "                        [ 0.0762, -0.0915,  0.0406],\n",
       "                        [ 0.0199,  0.0227,  0.0154]],\n",
       "              \n",
       "                       [[ 0.0288, -0.0507, -0.0135],\n",
       "                        [ 0.1002,  0.0708, -0.0040],\n",
       "                        [-0.0991,  0.0046, -0.0718]],\n",
       "              \n",
       "                       [[ 0.0857, -0.0640, -0.0076],\n",
       "                        [-0.0234,  0.0188,  0.0992],\n",
       "                        [ 0.0100,  0.0610,  0.0818]],\n",
       "              \n",
       "                       [[ 0.0851, -0.0364, -0.0236],\n",
       "                        [ 0.0508, -0.0288,  0.0494],\n",
       "                        [-0.0230, -0.0715,  0.0429]],\n",
       "              \n",
       "                       [[ 0.0162,  0.0470,  0.1047],\n",
       "                        [ 0.0720,  0.0999,  0.0056],\n",
       "                        [-0.0907, -0.0739, -0.0655]],\n",
       "              \n",
       "                       [[-0.0929, -0.0528, -0.0970],\n",
       "                        [-0.0973, -0.0630, -0.1039],\n",
       "                        [-0.0647,  0.0402,  0.0879]],\n",
       "              \n",
       "                       [[-0.0314, -0.0307,  0.0563],\n",
       "                        [-0.0520, -0.0498,  0.0649],\n",
       "                        [-0.0918,  0.0129,  0.0931]]],\n",
       "              \n",
       "              \n",
       "                      [[[ 0.0181,  0.0287, -0.0614],\n",
       "                        [-0.0015,  0.0058,  0.0259],\n",
       "                        [ 0.0410,  0.0916, -0.0805]],\n",
       "              \n",
       "                       [[ 0.0032, -0.0527, -0.0834],\n",
       "                        [-0.0084, -0.0928,  0.0736],\n",
       "                        [ 0.0122, -0.0568,  0.0551]],\n",
       "              \n",
       "                       [[-0.0998, -0.0408, -0.0205],\n",
       "                        [-0.0896, -0.0670, -0.0172],\n",
       "                        [ 0.0800,  0.1018,  0.0671]],\n",
       "              \n",
       "                       [[-0.0629, -0.0690,  0.0920],\n",
       "                        [ 0.0373,  0.0028,  0.0143],\n",
       "                        [-0.0847, -0.0352,  0.1015]],\n",
       "              \n",
       "                       [[-0.0260, -0.0053, -0.0875],\n",
       "                        [-0.0590, -0.0022, -0.0655],\n",
       "                        [-0.0131,  0.0429, -0.1031]],\n",
       "              \n",
       "                       [[ 0.0313, -0.0697, -0.0514],\n",
       "                        [ 0.0405,  0.0838, -0.0288],\n",
       "                        [-0.0433, -0.0953, -0.0544]],\n",
       "              \n",
       "                       [[-0.0923, -0.0241,  0.0215],\n",
       "                        [-0.0988,  0.0920,  0.0661],\n",
       "                        [-0.1032, -0.0503,  0.0344]],\n",
       "              \n",
       "                       [[-0.0217, -0.0115, -0.0476],\n",
       "                        [ 0.0847, -0.0589,  0.0874],\n",
       "                        [ 0.0068,  0.0212,  0.0822]],\n",
       "              \n",
       "                       [[-0.0174, -0.0600, -0.0170],\n",
       "                        [ 0.0855, -0.0782,  0.0239],\n",
       "                        [-0.1036,  0.0553,  0.0389]],\n",
       "              \n",
       "                       [[ 0.0045,  0.0452,  0.0001],\n",
       "                        [ 0.0583, -0.0834, -0.0155],\n",
       "                        [ 0.0468,  0.1050,  0.0537]]],\n",
       "              \n",
       "              \n",
       "                      [[[-0.0767,  0.0811, -0.0235],\n",
       "                        [-0.0225, -0.0958, -0.0166],\n",
       "                        [ 0.0746,  0.0147, -0.0614]],\n",
       "              \n",
       "                       [[ 0.0324, -0.0338,  0.0962],\n",
       "                        [-0.0915, -0.0333, -0.1018],\n",
       "                        [-0.0415,  0.0332,  0.1015]],\n",
       "              \n",
       "                       [[ 0.0177,  0.1033,  0.0206],\n",
       "                        [ 0.0609,  0.0845,  0.0881],\n",
       "                        [-0.0590,  0.0969,  0.0639]],\n",
       "              \n",
       "                       [[-0.0493, -0.0503, -0.0884],\n",
       "                        [ 0.0265, -0.0854,  0.0445],\n",
       "                        [ 0.0333, -0.0916,  0.0287]],\n",
       "              \n",
       "                       [[-0.0086,  0.0482,  0.0605],\n",
       "                        [-0.1048,  0.0967,  0.0884],\n",
       "                        [ 0.0419, -0.0963, -0.0377]],\n",
       "              \n",
       "                       [[-0.0305, -0.0271,  0.0594],\n",
       "                        [ 0.0383,  0.0835, -0.0395],\n",
       "                        [ 0.0355,  0.0375, -0.0878]],\n",
       "              \n",
       "                       [[-0.1022, -0.0547,  0.0722],\n",
       "                        [-0.0992, -0.0918,  0.0591],\n",
       "                        [ 0.0569,  0.0867, -0.0796]],\n",
       "              \n",
       "                       [[-0.0771,  0.0541,  0.0917],\n",
       "                        [ 0.0631,  0.0165,  0.0347],\n",
       "                        [ 0.1000, -0.0680, -0.0479]],\n",
       "              \n",
       "                       [[ 0.0737, -0.0721, -0.0581],\n",
       "                        [ 0.0769,  0.0333,  0.0341],\n",
       "                        [-0.0447, -0.0015,  0.0965]],\n",
       "              \n",
       "                       [[-0.0633,  0.0008,  0.0501],\n",
       "                        [-0.0728,  0.1024, -0.0527],\n",
       "                        [-0.0253, -0.0285, -0.0687]]],\n",
       "              \n",
       "              \n",
       "                      [[[-0.1034,  0.0594,  0.0280],\n",
       "                        [-0.0987, -0.0678,  0.1042],\n",
       "                        [ 0.0403,  0.0423, -0.0631]],\n",
       "              \n",
       "                       [[-0.0462, -0.0159, -0.0193],\n",
       "                        [-0.0722,  0.0087,  0.0105],\n",
       "                        [-0.0133,  0.0146, -0.0418]],\n",
       "              \n",
       "                       [[ 0.0274,  0.0398, -0.0555],\n",
       "                        [-0.1045,  0.0552,  0.0251],\n",
       "                        [-0.0536,  0.1016, -0.0477]],\n",
       "              \n",
       "                       [[ 0.0712,  0.0535, -0.0884],\n",
       "                        [ 0.0680, -0.0969, -0.0584],\n",
       "                        [-0.0176, -0.0711,  0.1030]],\n",
       "              \n",
       "                       [[-0.0211,  0.0419, -0.0941],\n",
       "                        [ 0.0607, -0.0328, -0.0802],\n",
       "                        [ 0.0154,  0.0511,  0.0912]],\n",
       "              \n",
       "                       [[-0.0644, -0.0519,  0.0203],\n",
       "                        [ 0.0286,  0.0405,  0.0579],\n",
       "                        [-0.0239,  0.0586,  0.0777]],\n",
       "              \n",
       "                       [[-0.0275,  0.0750,  0.0515],\n",
       "                        [ 0.0930, -0.0599, -0.0521],\n",
       "                        [-0.0305,  0.0053,  0.0633]],\n",
       "              \n",
       "                       [[-0.0602,  0.0528, -0.0378],\n",
       "                        [ 0.0637, -0.0050, -0.0923],\n",
       "                        [-0.0580, -0.0763,  0.0523]],\n",
       "              \n",
       "                       [[-0.0707, -0.0088,  0.0227],\n",
       "                        [-0.0578,  0.0304, -0.1029],\n",
       "                        [-0.0754, -0.0955, -0.0319]],\n",
       "              \n",
       "                       [[-0.0384,  0.0151, -0.0195],\n",
       "                        [ 0.0496,  0.0966,  0.0378],\n",
       "                        [-0.0415, -0.0987,  0.0382]]],\n",
       "              \n",
       "              \n",
       "                      [[[-0.0522,  0.0536,  0.0705],\n",
       "                        [ 0.0407,  0.0989,  0.1001],\n",
       "                        [ 0.0223, -0.0768,  0.0942]],\n",
       "              \n",
       "                       [[-0.0500, -0.0498,  0.0882],\n",
       "                        [ 0.0817,  0.0318,  0.0066],\n",
       "                        [-0.0887, -0.0109,  0.1011]],\n",
       "              \n",
       "                       [[ 0.0268,  0.0090, -0.0219],\n",
       "                        [-0.0368,  0.0628,  0.0065],\n",
       "                        [ 0.0686, -0.0187,  0.0461]],\n",
       "              \n",
       "                       [[ 0.0435,  0.0168,  0.0662],\n",
       "                        [ 0.0661,  0.0977,  0.0810],\n",
       "                        [-0.0270, -0.0892,  0.0193]],\n",
       "              \n",
       "                       [[-0.0009, -0.0275, -0.0177],\n",
       "                        [ 0.0050,  0.0769,  0.0329],\n",
       "                        [-0.0374, -0.0433, -0.0261]],\n",
       "              \n",
       "                       [[-0.0407,  0.0948,  0.0558],\n",
       "                        [ 0.0952,  0.0003,  0.0213],\n",
       "                        [ 0.0366, -0.0998,  0.0094]],\n",
       "              \n",
       "                       [[-0.0071, -0.0591, -0.0818],\n",
       "                        [ 0.0933,  0.0857,  0.0489],\n",
       "                        [ 0.1006, -0.0428, -0.0182]],\n",
       "              \n",
       "                       [[ 0.0399, -0.0174, -0.0207],\n",
       "                        [-0.0871,  0.0283, -0.0637],\n",
       "                        [ 0.0038,  0.1028, -0.0324]],\n",
       "              \n",
       "                       [[-0.0332,  0.0636, -0.0388],\n",
       "                        [-0.0091,  0.0984, -0.0432],\n",
       "                        [-0.0754, -0.0590, -0.0292]],\n",
       "              \n",
       "                       [[-0.0500, -0.0547,  0.0426],\n",
       "                        [ 0.0179, -0.0337, -0.0819],\n",
       "                        [-0.0332, -0.0445, -0.0343]]],\n",
       "              \n",
       "              \n",
       "                      [[[-0.0951,  0.0227, -0.0774],\n",
       "                        [-0.0821, -0.0861,  0.0440],\n",
       "                        [-0.0635, -0.0435,  0.0826]],\n",
       "              \n",
       "                       [[ 0.0560,  0.0604, -0.1001],\n",
       "                        [-0.0756, -0.0398,  0.0871],\n",
       "                        [ 0.0108, -0.0788,  0.0007]],\n",
       "              \n",
       "                       [[-0.0819, -0.0231, -0.0290],\n",
       "                        [ 0.0912,  0.0326, -0.0184],\n",
       "                        [ 0.0178, -0.0304,  0.0414]],\n",
       "              \n",
       "                       [[ 0.0417,  0.0283, -0.0411],\n",
       "                        [ 0.0899, -0.0152, -0.0410],\n",
       "                        [ 0.0660,  0.0859,  0.1049]],\n",
       "              \n",
       "                       [[ 0.0312, -0.0359,  0.0535],\n",
       "                        [ 0.0904, -0.1034, -0.0131],\n",
       "                        [-0.0719,  0.0196,  0.0436]],\n",
       "              \n",
       "                       [[-0.0218, -0.0088,  0.0474],\n",
       "                        [-0.0177, -0.0885,  0.0843],\n",
       "                        [-0.0531, -0.0116,  0.0099]],\n",
       "              \n",
       "                       [[-0.0063, -0.0992,  0.0484],\n",
       "                        [-0.0479, -0.0547,  0.0252],\n",
       "                        [-0.0550, -0.0487, -0.0355]],\n",
       "              \n",
       "                       [[-0.0396, -0.0440, -0.0284],\n",
       "                        [ 0.0274, -0.0853, -0.0638],\n",
       "                        [ 0.0015,  0.0147,  0.0582]],\n",
       "              \n",
       "                       [[-0.0740,  0.0336,  0.0599],\n",
       "                        [ 0.0585, -0.0982, -0.0402],\n",
       "                        [-0.0906, -0.0667,  0.0587]],\n",
       "              \n",
       "                       [[-0.0157,  0.0448, -0.0619],\n",
       "                        [ 0.0160, -0.0638,  0.0527],\n",
       "                        [-0.0461, -0.0264, -0.0915]]]], device='cuda:0')),\n",
       "             ('Convolutional_1.2.bias',\n",
       "              tensor([ 0.0003,  0.1001,  0.0512, -0.0562,  0.0014, -0.0116, -0.0849,  0.0827,\n",
       "                       0.0017,  0.0222], device='cuda:0')),\n",
       "             ('Convolutional_2.0.weight',\n",
       "              tensor([[[[-4.2567e-02, -4.9323e-02,  1.7381e-02],\n",
       "                        [ 3.8971e-02,  2.3643e-02, -5.0801e-02],\n",
       "                        [ 1.0234e-01, -1.5517e-02, -6.4554e-02]],\n",
       "              \n",
       "                       [[-4.9301e-02,  1.0377e-01,  5.0738e-06],\n",
       "                        [-1.4309e-02, -4.3867e-02, -2.7633e-02],\n",
       "                        [-8.8779e-02, -8.3767e-02,  6.1695e-02]],\n",
       "              \n",
       "                       [[ 9.0172e-02,  1.0059e-01, -7.6099e-02],\n",
       "                        [ 5.7012e-02, -6.5245e-02,  6.2883e-02],\n",
       "                        [ 7.6058e-02,  8.1573e-02,  7.5900e-02]],\n",
       "              \n",
       "                       [[ 6.5941e-02,  2.0517e-03,  4.8434e-02],\n",
       "                        [-3.7712e-02,  4.5899e-02, -3.3879e-02],\n",
       "                        [-1.7700e-03, -9.1746e-02, -2.7562e-02]],\n",
       "              \n",
       "                       [[-5.5432e-02, -3.5557e-02, -6.7313e-02],\n",
       "                        [-9.4810e-02,  6.8639e-03,  6.8408e-02],\n",
       "                        [ 9.6001e-02,  6.1512e-02, -5.4638e-02]],\n",
       "              \n",
       "                       [[-1.0425e-01,  3.9983e-02,  5.9062e-02],\n",
       "                        [-9.0495e-02,  3.7798e-02,  8.9121e-02],\n",
       "                        [ 6.3853e-03, -6.3505e-02,  8.6423e-02]],\n",
       "              \n",
       "                       [[ 4.5011e-02,  6.9802e-02, -7.1287e-02],\n",
       "                        [ 6.1342e-02, -7.2002e-02,  1.0430e-01],\n",
       "                        [-4.4662e-02,  6.3516e-02,  2.1107e-02]],\n",
       "              \n",
       "                       [[ 2.7935e-02, -1.6165e-02,  4.3295e-02],\n",
       "                        [-4.3932e-02, -9.9357e-02, -4.0499e-02],\n",
       "                        [ 8.2592e-02, -2.7751e-02,  3.3132e-02]],\n",
       "              \n",
       "                       [[-3.8973e-02,  7.9073e-02,  6.3086e-02],\n",
       "                        [ 3.7211e-02, -5.3881e-02, -8.6133e-02],\n",
       "                        [ 3.9686e-03, -6.1839e-02,  8.6667e-02]],\n",
       "              \n",
       "                       [[-1.0130e-01,  4.7104e-02,  1.0508e-01],\n",
       "                        [ 5.2792e-02,  3.5942e-02, -1.0142e-01],\n",
       "                        [ 1.0139e-01, -1.8030e-02, -9.8495e-02]]],\n",
       "              \n",
       "              \n",
       "                      [[[ 1.0406e-01, -4.2894e-02, -7.4575e-03],\n",
       "                        [ 9.6479e-02, -7.3070e-02, -7.4576e-02],\n",
       "                        [ 1.7141e-02, -1.4109e-02,  2.4280e-02]],\n",
       "              \n",
       "                       [[-8.8407e-02,  3.1524e-03, -4.6882e-02],\n",
       "                        [-5.1820e-02, -9.6517e-02,  5.5890e-02],\n",
       "                        [ 2.0306e-02, -8.9118e-02,  8.3648e-02]],\n",
       "              \n",
       "                       [[ 3.1794e-02,  1.9560e-02, -6.1890e-02],\n",
       "                        [ 1.5896e-02,  1.0157e-01,  7.2299e-02],\n",
       "                        [-8.2100e-02,  9.6220e-02,  8.1702e-03]],\n",
       "              \n",
       "                       [[ 5.0698e-02,  8.1869e-02,  8.9862e-02],\n",
       "                        [-8.2170e-02,  9.2303e-02, -7.1591e-02],\n",
       "                        [ 7.9021e-03, -7.3656e-02, -2.3109e-02]],\n",
       "              \n",
       "                       [[-4.7901e-03, -1.2611e-02, -1.6652e-02],\n",
       "                        [ 8.3137e-03,  1.0398e-01,  6.1244e-02],\n",
       "                        [ 5.8973e-02,  4.2190e-02,  8.1606e-02]],\n",
       "              \n",
       "                       [[-4.8645e-03,  8.3813e-03,  2.1693e-02],\n",
       "                        [-9.1931e-02, -8.4913e-02,  1.2923e-02],\n",
       "                        [-4.1241e-02, -1.9342e-03, -2.4187e-02]],\n",
       "              \n",
       "                       [[ 1.6408e-02,  6.8581e-02, -3.4958e-02],\n",
       "                        [ 8.4418e-02,  8.3227e-02, -8.0901e-02],\n",
       "                        [-8.1400e-02, -8.5284e-02, -5.7766e-02]],\n",
       "              \n",
       "                       [[-4.1033e-02, -7.9341e-03, -2.5635e-02],\n",
       "                        [-5.3258e-02, -3.3488e-02, -3.8131e-02],\n",
       "                        [ 1.0341e-01, -3.9068e-02, -7.5473e-02]],\n",
       "              \n",
       "                       [[ 4.3818e-02, -6.0886e-03,  8.0698e-02],\n",
       "                        [ 6.5863e-02,  9.6843e-02, -7.7197e-02],\n",
       "                        [ 6.7764e-02,  8.8464e-02, -5.2054e-02]],\n",
       "              \n",
       "                       [[ 9.6890e-02,  7.9019e-02,  1.1544e-03],\n",
       "                        [ 5.0823e-02, -3.6853e-02, -9.1936e-02],\n",
       "                        [ 2.6645e-02,  3.1425e-02, -6.8891e-02]]],\n",
       "              \n",
       "              \n",
       "                      [[[ 5.1123e-02, -9.0043e-02,  9.0718e-02],\n",
       "                        [ 1.0208e-01,  2.8699e-02, -6.6137e-02],\n",
       "                        [ 5.1300e-02,  1.7963e-02,  2.8663e-02]],\n",
       "              \n",
       "                       [[ 3.4643e-02,  8.0254e-02, -4.5309e-02],\n",
       "                        [-2.3711e-02,  2.8746e-02,  1.1486e-02],\n",
       "                        [ 8.5000e-02, -5.5365e-02, -3.8387e-03]],\n",
       "              \n",
       "                       [[ 1.9696e-02, -2.7996e-02,  7.1859e-02],\n",
       "                        [ 1.1530e-02, -9.7422e-02, -1.1420e-02],\n",
       "                        [-4.7809e-02,  1.0243e-02, -1.2250e-02]],\n",
       "              \n",
       "                       [[-1.0456e-01, -1.9208e-02, -1.0096e-02],\n",
       "                        [-3.1083e-02,  9.6848e-02, -2.3000e-02],\n",
       "                        [ 6.7717e-02,  2.6112e-02, -8.8979e-02]],\n",
       "              \n",
       "                       [[ 2.4770e-02,  8.7356e-02, -6.8948e-02],\n",
       "                        [-6.8134e-02,  1.0318e-01,  8.4697e-02],\n",
       "                        [-5.8807e-02,  6.3429e-02, -1.3485e-02]],\n",
       "              \n",
       "                       [[-1.0393e-01,  7.9198e-03,  3.4057e-02],\n",
       "                        [-3.1619e-02,  3.6670e-02, -9.0136e-02],\n",
       "                        [ 7.3050e-02,  8.9865e-02,  5.8130e-02]],\n",
       "              \n",
       "                       [[ 1.7866e-02,  3.4716e-02, -7.6269e-02],\n",
       "                        [-2.6339e-02, -1.0063e-02, -5.8659e-02],\n",
       "                        [-7.7857e-02,  7.0900e-02,  7.1535e-02]],\n",
       "              \n",
       "                       [[-9.5731e-02,  3.3542e-02,  4.2881e-02],\n",
       "                        [ 1.0014e-01,  6.0985e-02,  9.6907e-02],\n",
       "                        [-3.4510e-02,  7.3827e-02,  8.5740e-02]],\n",
       "              \n",
       "                       [[-9.9541e-02, -8.4613e-02,  2.1335e-02],\n",
       "                        [ 5.7557e-02, -5.2369e-02,  1.1609e-02],\n",
       "                        [-1.5303e-04,  2.6680e-02, -5.6642e-02]],\n",
       "              \n",
       "                       [[ 5.9455e-02,  7.0098e-02, -7.3139e-02],\n",
       "                        [ 1.0211e-03,  2.9247e-04,  3.3849e-02],\n",
       "                        [ 9.8198e-02,  3.0913e-02, -2.3951e-02]]],\n",
       "              \n",
       "              \n",
       "                      [[[ 9.4672e-02, -4.0112e-02, -3.0608e-02],\n",
       "                        [ 7.1969e-03, -8.0270e-02,  1.1470e-02],\n",
       "                        [-7.1518e-02,  1.0838e-02,  1.0099e-02]],\n",
       "              \n",
       "                       [[ 1.4591e-02, -8.8891e-02, -1.0012e-01],\n",
       "                        [ 4.8501e-02,  9.0399e-02, -9.3537e-02],\n",
       "                        [ 3.9043e-02, -7.7594e-02,  6.6082e-03]],\n",
       "              \n",
       "                       [[ 9.8068e-02,  7.9965e-02, -7.7069e-02],\n",
       "                        [ 6.5203e-02,  5.5057e-02, -1.6169e-04],\n",
       "                        [ 1.0211e-01, -4.1866e-02, -2.4530e-02]],\n",
       "              \n",
       "                       [[-5.3275e-02,  1.5168e-02,  2.7911e-02],\n",
       "                        [ 8.3990e-03, -5.9307e-02, -4.7452e-02],\n",
       "                        [ 3.5855e-02, -9.2426e-02, -1.6416e-02]],\n",
       "              \n",
       "                       [[-2.3350e-03, -4.2708e-02,  3.8360e-02],\n",
       "                        [ 6.7940e-03,  7.4004e-02, -9.3616e-03],\n",
       "                        [-6.6528e-02,  7.4477e-02,  1.4720e-02]],\n",
       "              \n",
       "                       [[-3.0189e-02, -6.9476e-02,  2.4707e-02],\n",
       "                        [-1.0053e-01,  2.7762e-02,  5.2119e-02],\n",
       "                        [-9.2465e-02, -6.9009e-02, -7.5781e-02]],\n",
       "              \n",
       "                       [[ 8.8597e-02,  8.9611e-02,  6.5987e-03],\n",
       "                        [ 9.8959e-02, -3.5239e-02, -1.0233e-01],\n",
       "                        [ 3.6819e-02,  3.7343e-02,  1.0334e-01]],\n",
       "              \n",
       "                       [[-3.0510e-05,  8.0785e-02,  6.4612e-02],\n",
       "                        [ 7.6292e-02, -1.0460e-01,  8.6800e-02],\n",
       "                        [-8.9856e-02,  9.4501e-02, -4.3682e-03]],\n",
       "              \n",
       "                       [[-9.3415e-02,  2.9314e-02, -2.1456e-02],\n",
       "                        [-9.4678e-02, -3.8215e-02,  1.0868e-02],\n",
       "                        [ 8.2098e-02, -3.2406e-02,  6.2610e-02]],\n",
       "              \n",
       "                       [[ 1.3200e-02,  3.5531e-03,  2.0170e-02],\n",
       "                        [-6.9177e-02, -8.7616e-02, -3.3121e-02],\n",
       "                        [-9.8226e-02, -4.9158e-02,  4.8494e-03]]],\n",
       "              \n",
       "              \n",
       "                      [[[-6.9424e-02, -4.3723e-02, -1.8941e-02],\n",
       "                        [-1.2144e-02, -5.8187e-02,  5.0650e-03],\n",
       "                        [-1.4795e-02,  3.0147e-02,  4.7611e-03]],\n",
       "              \n",
       "                       [[-5.2638e-02, -3.6291e-02, -1.2149e-03],\n",
       "                        [-6.5774e-02,  8.2520e-03, -7.4425e-03],\n",
       "                        [ 4.0897e-02,  2.4947e-02,  7.8887e-02]],\n",
       "              \n",
       "                       [[-3.4749e-03, -7.7887e-02,  4.7119e-02],\n",
       "                        [-7.1240e-02, -1.4489e-02, -3.4132e-02],\n",
       "                        [-3.9997e-02, -3.9000e-02,  9.6863e-02]],\n",
       "              \n",
       "                       [[ 6.0342e-02,  2.9213e-02,  9.8975e-02],\n",
       "                        [-9.5524e-02,  1.7010e-02,  6.7481e-02],\n",
       "                        [ 7.0022e-02, -8.3890e-02,  3.7514e-02]],\n",
       "              \n",
       "                       [[-6.0050e-02, -4.1187e-03, -2.1996e-02],\n",
       "                        [-8.8013e-02, -1.0055e-01, -6.9349e-02],\n",
       "                        [ 4.7832e-02,  4.8218e-02, -9.1681e-02]],\n",
       "              \n",
       "                       [[-3.9586e-02,  1.7218e-03, -9.1135e-02],\n",
       "                        [ 5.9393e-02,  9.5473e-02,  1.8643e-02],\n",
       "                        [-7.8321e-02,  2.4580e-02,  3.8265e-02]],\n",
       "              \n",
       "                       [[ 8.3468e-02, -5.6085e-02, -9.4437e-02],\n",
       "                        [ 4.6312e-02,  6.5624e-03, -3.4345e-02],\n",
       "                        [-4.4169e-02, -5.4351e-02,  8.5328e-02]],\n",
       "              \n",
       "                       [[-1.8187e-02,  7.6022e-02,  9.4094e-02],\n",
       "                        [ 1.3353e-02,  2.2454e-02, -7.1789e-03],\n",
       "                        [ 7.2397e-02, -9.4983e-02,  4.1919e-02]],\n",
       "              \n",
       "                       [[-1.7174e-02,  4.8132e-02, -4.6949e-04],\n",
       "                        [-3.9029e-02, -1.1379e-02,  5.6920e-02],\n",
       "                        [-7.3210e-02, -6.6629e-02, -2.3611e-02]],\n",
       "              \n",
       "                       [[-3.8235e-02,  4.1409e-02,  7.0937e-02],\n",
       "                        [-1.1289e-02,  9.9672e-02, -4.4042e-02],\n",
       "                        [-5.9151e-02, -4.7191e-02, -7.2624e-02]]],\n",
       "              \n",
       "              \n",
       "                      [[[-7.3885e-02, -9.3921e-02, -9.3422e-02],\n",
       "                        [ 2.7512e-02,  6.4284e-02,  9.8963e-02],\n",
       "                        [ 8.9787e-02, -6.0709e-03,  2.0454e-02]],\n",
       "              \n",
       "                       [[-6.3068e-02,  4.0743e-02, -1.0107e-01],\n",
       "                        [ 4.9719e-02,  1.9334e-02,  3.2393e-02],\n",
       "                        [ 3.8595e-02, -4.8394e-02,  9.0452e-02]],\n",
       "              \n",
       "                       [[ 5.0307e-02,  6.9243e-02,  1.3922e-02],\n",
       "                        [ 6.6196e-02,  7.0941e-02,  4.7775e-02],\n",
       "                        [ 8.0297e-02, -1.9119e-02,  6.9310e-02]],\n",
       "              \n",
       "                       [[ 2.4286e-02,  6.3424e-02,  1.0267e-01],\n",
       "                        [ 2.3869e-02, -3.9124e-02, -1.0488e-02],\n",
       "                        [ 2.9676e-02,  1.7773e-02, -2.8795e-02]],\n",
       "              \n",
       "                       [[ 8.2590e-02,  6.3331e-02, -6.5475e-02],\n",
       "                        [-8.5889e-03, -1.0119e-02, -6.6063e-02],\n",
       "                        [ 1.5374e-02, -3.2360e-02, -5.4419e-02]],\n",
       "              \n",
       "                       [[-3.3894e-02, -3.7584e-02,  1.0084e-01],\n",
       "                        [ 4.0432e-02,  1.0373e-01,  2.8903e-02],\n",
       "                        [ 2.3868e-02,  4.3333e-02,  1.8092e-02]],\n",
       "              \n",
       "                       [[-8.2722e-02, -6.2334e-02, -2.5538e-02],\n",
       "                        [ 1.5846e-03,  3.9709e-02,  4.0588e-02],\n",
       "                        [ 8.3623e-02,  2.1458e-02, -3.5975e-02]],\n",
       "              \n",
       "                       [[-7.9271e-02, -7.7203e-02, -6.2965e-02],\n",
       "                        [ 3.1792e-02,  5.6950e-02,  9.2224e-02],\n",
       "                        [-3.3342e-02, -8.3150e-03, -3.1303e-02]],\n",
       "              \n",
       "                       [[-3.8517e-04,  3.3837e-02, -2.3160e-03],\n",
       "                        [ 4.8799e-03,  1.3354e-02,  3.9256e-02],\n",
       "                        [-3.1981e-02, -6.2855e-02,  2.4869e-02]],\n",
       "              \n",
       "                       [[-1.2481e-02, -4.7753e-02,  4.4268e-02],\n",
       "                        [ 9.5597e-04, -1.5333e-02, -5.1027e-02],\n",
       "                        [-1.3868e-02, -8.9632e-02,  2.3980e-02]]],\n",
       "              \n",
       "              \n",
       "                      [[[ 1.5818e-03,  6.3966e-02,  6.8063e-03],\n",
       "                        [ 8.4277e-03,  2.8715e-02,  8.0210e-02],\n",
       "                        [-4.9812e-02,  6.2930e-02,  2.5779e-02]],\n",
       "              \n",
       "                       [[-7.0320e-02,  3.6702e-02, -6.3217e-02],\n",
       "                        [-3.3181e-02, -5.0245e-02, -7.1711e-02],\n",
       "                        [ 8.3017e-02, -9.4217e-02,  5.2706e-02]],\n",
       "              \n",
       "                       [[-9.4870e-02, -1.2829e-02,  6.2868e-03],\n",
       "                        [ 7.4937e-02, -3.8147e-02,  3.0340e-02],\n",
       "                        [ 1.6329e-02,  6.2021e-02,  6.2668e-03]],\n",
       "              \n",
       "                       [[ 3.9470e-02, -6.3677e-02, -7.3250e-02],\n",
       "                        [ 9.3928e-02, -7.6808e-02, -1.7945e-02],\n",
       "                        [-1.2742e-02,  1.0308e-01, -2.2780e-02]],\n",
       "              \n",
       "                       [[-8.0249e-02, -2.6721e-02,  5.4372e-02],\n",
       "                        [ 4.1773e-02,  8.7204e-02, -2.1579e-02],\n",
       "                        [ 4.9653e-02, -9.9194e-02,  4.0787e-02]],\n",
       "              \n",
       "                       [[ 4.8432e-02,  6.7998e-02, -6.0446e-02],\n",
       "                        [-2.8142e-02,  2.5502e-02, -7.4905e-02],\n",
       "                        [-8.3851e-02, -1.0141e-01,  5.8842e-03]],\n",
       "              \n",
       "                       [[ 6.5458e-02,  2.7075e-02,  6.4263e-03],\n",
       "                        [ 3.6727e-02, -6.6240e-02,  1.1113e-02],\n",
       "                        [-2.6186e-02, -5.2193e-02,  9.0902e-02]],\n",
       "              \n",
       "                       [[-8.1550e-02,  1.5448e-02, -9.2624e-02],\n",
       "                        [-3.5762e-03, -4.6840e-02,  3.4695e-02],\n",
       "                        [-5.9191e-02,  6.7466e-02, -8.5536e-02]],\n",
       "              \n",
       "                       [[ 6.3313e-02, -7.9181e-02,  5.6456e-02],\n",
       "                        [-4.4384e-02, -2.4556e-04, -1.9238e-02],\n",
       "                        [ 6.8414e-02,  3.4546e-02, -9.2887e-02]],\n",
       "              \n",
       "                       [[ 9.6914e-03, -7.2718e-02,  7.8800e-02],\n",
       "                        [ 1.7319e-02, -2.7109e-02, -5.3777e-02],\n",
       "                        [ 3.6485e-02, -6.3129e-02,  4.9992e-02]]],\n",
       "              \n",
       "              \n",
       "                      [[[ 5.7519e-02,  6.4701e-02,  2.7537e-02],\n",
       "                        [-9.2272e-02,  7.5823e-02, -3.2700e-02],\n",
       "                        [-3.1163e-02, -1.1325e-02,  7.7068e-02]],\n",
       "              \n",
       "                       [[ 8.1052e-02,  1.6276e-02,  5.0296e-02],\n",
       "                        [-9.8241e-02,  2.4901e-04, -9.3254e-02],\n",
       "                        [ 3.5876e-02, -7.5099e-02, -3.7568e-02]],\n",
       "              \n",
       "                       [[ 7.3684e-02,  1.0074e-01, -6.3286e-02],\n",
       "                        [-5.8503e-02,  1.3055e-02,  4.1437e-02],\n",
       "                        [-1.7168e-02, -3.2918e-02, -6.9237e-02]],\n",
       "              \n",
       "                       [[ 4.4997e-02,  1.0328e-01, -5.1026e-02],\n",
       "                        [ 4.9718e-02,  5.1481e-02,  8.4728e-02],\n",
       "                        [-1.2001e-02,  3.3202e-03,  7.7444e-02]],\n",
       "              \n",
       "                       [[ 6.6631e-02,  1.0411e-01, -3.0207e-02],\n",
       "                        [ 4.1709e-02,  7.3605e-02, -7.1553e-02],\n",
       "                        [ 2.0940e-02, -2.3586e-02,  6.7760e-02]],\n",
       "              \n",
       "                       [[-4.7342e-02,  7.3933e-03,  6.3067e-02],\n",
       "                        [-9.6567e-02, -8.9004e-02, -5.3989e-02],\n",
       "                        [ 6.7611e-02,  7.0680e-02, -7.1991e-02]],\n",
       "              \n",
       "                       [[ 2.0100e-02, -5.5854e-02, -4.8926e-02],\n",
       "                        [ 9.0907e-02,  5.0914e-02, -2.8828e-02],\n",
       "                        [ 1.5516e-02,  2.0424e-02,  2.4691e-02]],\n",
       "              \n",
       "                       [[-3.6079e-02, -6.2074e-02,  6.9788e-02],\n",
       "                        [ 1.4164e-02,  4.4119e-02, -3.9922e-02],\n",
       "                        [ 5.1057e-02,  7.6713e-02,  6.4107e-02]],\n",
       "              \n",
       "                       [[ 2.8660e-02,  1.0371e-01, -2.3053e-04],\n",
       "                        [ 2.2441e-02,  1.0015e-01,  1.0245e-01],\n",
       "                        [-4.4506e-02,  9.4953e-02,  3.8902e-02]],\n",
       "              \n",
       "                       [[-1.1799e-02,  9.2038e-02, -5.4605e-02],\n",
       "                        [ 6.8490e-02,  1.0445e-01, -7.2701e-02],\n",
       "                        [-6.2201e-02, -1.0445e-01, -1.8970e-02]]],\n",
       "              \n",
       "              \n",
       "                      [[[-9.5733e-02, -3.5304e-02,  3.2002e-02],\n",
       "                        [ 7.4511e-02,  5.8717e-02,  5.8511e-02],\n",
       "                        [ 4.3730e-02, -6.5378e-02, -8.3694e-02]],\n",
       "              \n",
       "                       [[ 4.3696e-03,  1.0009e-01,  5.9351e-03],\n",
       "                        [-9.0662e-03, -7.1545e-02, -5.2266e-02],\n",
       "                        [-8.1256e-02,  8.4398e-02, -1.7174e-02]],\n",
       "              \n",
       "                       [[-9.3119e-02,  1.1308e-02,  7.6494e-03],\n",
       "                        [-1.3023e-02,  3.7733e-02,  5.6687e-02],\n",
       "                        [-9.9128e-02, -8.0753e-02, -5.0639e-03]],\n",
       "              \n",
       "                       [[-9.7729e-02, -9.5750e-02,  9.3067e-02],\n",
       "                        [-8.0174e-03, -5.2113e-02, -3.6157e-02],\n",
       "                        [-8.2295e-02,  8.2258e-02, -2.2857e-02]],\n",
       "              \n",
       "                       [[-5.9265e-02, -7.9944e-02,  6.1611e-02],\n",
       "                        [-1.4571e-02, -1.1074e-02, -2.7473e-02],\n",
       "                        [-5.0883e-02,  1.8751e-02,  8.1099e-02]],\n",
       "              \n",
       "                       [[-6.1093e-02,  5.0504e-03, -8.0165e-02],\n",
       "                        [-4.9426e-02,  9.2525e-02,  1.1052e-03],\n",
       "                        [ 1.0154e-01, -1.8468e-02, -5.7453e-02]],\n",
       "              \n",
       "                       [[-6.2981e-02,  9.3426e-02, -8.1058e-02],\n",
       "                        [ 5.5318e-02,  2.6203e-02,  3.1107e-02],\n",
       "                        [ 5.9476e-02, -2.7577e-02,  6.5223e-02]],\n",
       "              \n",
       "                       [[-8.3982e-02, -3.7087e-02,  7.7164e-02],\n",
       "                        [ 3.1283e-02, -1.4038e-02, -2.4616e-02],\n",
       "                        [-6.4364e-02,  6.4098e-02, -3.3520e-03]],\n",
       "              \n",
       "                       [[-3.5664e-03,  2.4929e-02,  7.7787e-02],\n",
       "                        [-5.3778e-02, -3.6303e-02,  7.1429e-02],\n",
       "                        [ 5.9532e-02, -5.1855e-02, -1.0428e-01]],\n",
       "              \n",
       "                       [[ 1.9555e-02,  5.5434e-02,  2.5178e-02],\n",
       "                        [ 7.4768e-02, -8.3640e-02,  5.3156e-02],\n",
       "                        [-6.5531e-02,  5.9325e-02,  7.8394e-02]]],\n",
       "              \n",
       "              \n",
       "                      [[[ 3.3385e-02,  8.5284e-02, -6.9481e-02],\n",
       "                        [-9.4275e-02, -1.0135e-01,  6.6179e-02],\n",
       "                        [ 3.6926e-02, -7.7188e-02,  5.1048e-02]],\n",
       "              \n",
       "                       [[ 9.6177e-02, -1.0394e-01,  7.6466e-02],\n",
       "                        [ 1.6167e-02,  9.8053e-03,  9.4847e-02],\n",
       "                        [ 9.5458e-02,  4.4414e-02,  8.3288e-02]],\n",
       "              \n",
       "                       [[ 4.3853e-02,  1.7176e-02, -9.2656e-02],\n",
       "                        [ 1.9689e-02, -7.4993e-02,  3.2452e-02],\n",
       "                        [ 1.8598e-02,  2.3681e-03, -7.2071e-02]],\n",
       "              \n",
       "                       [[-6.3899e-02,  7.7912e-02,  5.1336e-02],\n",
       "                        [ 5.5576e-02, -3.1410e-02, -1.8151e-02],\n",
       "                        [-2.7014e-02,  7.2489e-02, -4.5504e-02]],\n",
       "              \n",
       "                       [[ 6.6394e-02,  7.2679e-02, -9.6403e-02],\n",
       "                        [ 6.4369e-04, -2.0076e-02, -5.8273e-02],\n",
       "                        [ 4.5507e-02, -1.2807e-02,  9.2287e-02]],\n",
       "              \n",
       "                       [[-6.5976e-02,  4.8976e-02, -8.9998e-02],\n",
       "                        [-5.2833e-02,  7.1903e-03,  8.3283e-02],\n",
       "                        [ 5.5521e-02, -8.6550e-02,  1.1676e-02]],\n",
       "              \n",
       "                       [[-6.2138e-02,  4.5674e-03, -8.7814e-02],\n",
       "                        [-3.0924e-02,  7.2297e-02, -9.6717e-02],\n",
       "                        [-1.0050e-01,  1.9200e-02,  1.4450e-02]],\n",
       "              \n",
       "                       [[-1.9278e-02,  9.2045e-02, -6.3466e-02],\n",
       "                        [-6.3992e-02, -7.8791e-02, -1.9619e-02],\n",
       "                        [-2.6901e-02,  6.5222e-02, -5.9186e-03]],\n",
       "              \n",
       "                       [[ 3.3663e-02, -4.3804e-02,  8.5507e-02],\n",
       "                        [ 8.8862e-02, -9.4401e-02, -2.7090e-02],\n",
       "                        [-8.9439e-02,  4.4781e-02, -9.2094e-02]],\n",
       "              \n",
       "                       [[-4.9839e-02,  1.0532e-01, -1.0066e-01],\n",
       "                        [ 7.7771e-02,  8.9049e-03,  8.4289e-02],\n",
       "                        [-5.3494e-02,  6.9236e-02,  1.2718e-02]]]], device='cuda:0')),\n",
       "             ('Convolutional_2.0.bias',\n",
       "              tensor([ 0.0081,  0.0719, -0.1002, -0.0849,  0.1018, -0.0633, -0.0760, -0.0052,\n",
       "                      -0.0337, -0.0144], device='cuda:0')),\n",
       "             ('Convolutional_2.2.weight',\n",
       "              tensor([[[[-7.0623e-02,  3.8034e-02, -9.0703e-02],\n",
       "                        [ 8.5374e-03,  6.1510e-02,  2.0253e-02],\n",
       "                        [ 1.4006e-02,  1.5418e-02, -3.0880e-02]],\n",
       "              \n",
       "                       [[-2.0080e-02, -4.4450e-02, -7.1207e-02],\n",
       "                        [-5.5810e-02,  1.0420e-01, -1.7641e-02],\n",
       "                        [ 3.6924e-02,  7.2896e-02, -8.2343e-03]],\n",
       "              \n",
       "                       [[-5.6707e-02, -7.1419e-02, -3.8833e-02],\n",
       "                        [ 3.7624e-02, -8.8771e-02, -1.2870e-02],\n",
       "                        [ 4.0096e-02,  8.5999e-02,  3.1721e-02]],\n",
       "              \n",
       "                       [[ 2.0846e-02,  7.2162e-02,  4.8708e-02],\n",
       "                        [ 3.5661e-02, -3.2682e-02, -8.4528e-02],\n",
       "                        [-2.2769e-02, -1.9117e-02,  7.7410e-03]],\n",
       "              \n",
       "                       [[-1.1593e-02,  4.2616e-02,  7.0050e-02],\n",
       "                        [-4.2735e-02, -1.0002e-01, -5.4081e-02],\n",
       "                        [-5.0436e-02,  5.9750e-02, -6.7994e-02]],\n",
       "              \n",
       "                       [[-9.9145e-03, -2.2340e-02, -6.3976e-02],\n",
       "                        [ 4.7780e-02, -4.3909e-02, -5.4531e-03],\n",
       "                        [-7.4112e-02, -1.0632e-02,  1.4977e-02]],\n",
       "              \n",
       "                       [[-4.2894e-03, -3.9386e-02,  3.1315e-02],\n",
       "                        [-2.7311e-02, -5.8439e-02, -7.7732e-02],\n",
       "                        [-2.2329e-02, -9.9578e-02,  8.7492e-02]],\n",
       "              \n",
       "                       [[-5.0357e-02, -4.3684e-02,  9.7439e-03],\n",
       "                        [ 2.7326e-02, -9.9393e-03,  7.2313e-02],\n",
       "                        [-6.1448e-02,  3.7777e-02, -2.3773e-04]],\n",
       "              \n",
       "                       [[-8.5747e-02, -4.0824e-02,  2.6825e-02],\n",
       "                        [ 2.0138e-02,  7.6647e-02,  7.0518e-02],\n",
       "                        [-5.7493e-02, -4.5013e-02, -2.2351e-02]],\n",
       "              \n",
       "                       [[-7.5517e-02, -2.8459e-02, -8.6258e-02],\n",
       "                        [ 4.0092e-02,  7.4583e-02,  8.3459e-03],\n",
       "                        [-7.5460e-02, -7.9827e-02, -4.1036e-02]]],\n",
       "              \n",
       "              \n",
       "                      [[[ 3.0659e-02,  2.5711e-03,  1.9166e-02],\n",
       "                        [ 9.9346e-02,  4.8956e-02,  2.2665e-02],\n",
       "                        [-2.1327e-02,  4.9864e-02,  3.8563e-02]],\n",
       "              \n",
       "                       [[-9.4879e-02, -6.2266e-02,  3.5381e-03],\n",
       "                        [ 3.9997e-02,  5.1282e-02, -6.2748e-02],\n",
       "                        [-1.0458e-01, -5.4909e-03, -1.2050e-02]],\n",
       "              \n",
       "                       [[ 3.0588e-02, -2.8988e-02,  8.0588e-02],\n",
       "                        [ 7.0333e-03,  7.6975e-02, -7.3398e-02],\n",
       "                        [ 4.2167e-02,  1.2560e-02, -5.2720e-02]],\n",
       "              \n",
       "                       [[ 5.2256e-02, -1.0372e-01,  8.5220e-02],\n",
       "                        [ 8.4947e-03,  1.0178e-02,  4.8746e-02],\n",
       "                        [ 8.7503e-03,  4.5184e-02,  6.7063e-02]],\n",
       "              \n",
       "                       [[-8.2268e-02,  6.9735e-02, -1.5784e-02],\n",
       "                        [-2.4513e-02,  2.1217e-02,  8.2446e-02],\n",
       "                        [-5.7302e-02, -7.1039e-02,  6.5418e-02]],\n",
       "              \n",
       "                       [[-4.9507e-02,  3.3937e-02, -1.5530e-02],\n",
       "                        [ 2.9014e-02,  8.0439e-02, -5.3421e-02],\n",
       "                        [-5.1151e-02,  5.1716e-02,  5.7714e-03]],\n",
       "              \n",
       "                       [[-1.1601e-02, -9.2590e-02,  8.9309e-02],\n",
       "                        [-3.9919e-03, -1.9415e-02, -4.3269e-02],\n",
       "                        [-2.0801e-02,  5.1233e-02, -2.4227e-03]],\n",
       "              \n",
       "                       [[ 9.0147e-02, -6.0858e-03, -1.5122e-02],\n",
       "                        [ 5.9498e-02, -2.7275e-03, -2.1039e-02],\n",
       "                        [ 3.5231e-02,  8.3129e-02,  2.6305e-02]],\n",
       "              \n",
       "                       [[ 7.3398e-02,  6.8309e-02,  2.9810e-02],\n",
       "                        [ 3.6650e-02,  3.4014e-02,  1.0934e-02],\n",
       "                        [ 8.9675e-02,  9.7308e-02,  3.7524e-02]],\n",
       "              \n",
       "                       [[-5.2640e-03,  9.4509e-02, -8.2042e-02],\n",
       "                        [ 7.7453e-02,  5.5849e-02,  6.7687e-02],\n",
       "                        [-8.0992e-03, -7.8646e-02,  7.5193e-02]]],\n",
       "              \n",
       "              \n",
       "                      [[[-4.6091e-02,  2.7734e-02,  5.9719e-02],\n",
       "                        [-9.8508e-02,  6.9954e-03, -3.7444e-02],\n",
       "                        [ 7.4815e-02, -6.7114e-02,  6.4001e-02]],\n",
       "              \n",
       "                       [[ 6.5730e-02,  5.8156e-02,  1.0119e-01],\n",
       "                        [ 1.5964e-02, -9.5541e-02,  7.5248e-02],\n",
       "                        [ 9.6499e-03,  2.0918e-03, -1.0041e-01]],\n",
       "              \n",
       "                       [[-2.3691e-02, -5.1162e-02,  1.0324e-01],\n",
       "                        [ 7.5054e-02,  7.8634e-02,  7.2188e-02],\n",
       "                        [-6.5340e-02, -4.5270e-02, -4.1252e-02]],\n",
       "              \n",
       "                       [[-4.2257e-02,  8.2054e-02,  3.5815e-02],\n",
       "                        [ 8.4470e-02, -4.9309e-03, -9.3965e-02],\n",
       "                        [-3.0582e-02,  7.4081e-02,  6.4174e-02]],\n",
       "              \n",
       "                       [[ 3.2632e-02, -3.0919e-02, -9.8386e-02],\n",
       "                        [-5.6639e-02,  5.4958e-02, -4.2518e-02],\n",
       "                        [ 5.0421e-02,  2.8781e-02, -4.0486e-02]],\n",
       "              \n",
       "                       [[ 6.4202e-02, -3.3871e-02, -3.5020e-03],\n",
       "                        [-4.0152e-02, -9.9988e-02,  1.6996e-02],\n",
       "                        [ 3.0460e-02, -5.3072e-02,  6.4663e-02]],\n",
       "              \n",
       "                       [[-9.4558e-02, -1.0161e-01, -6.5106e-02],\n",
       "                        [-3.6430e-02, -1.1707e-02, -2.0370e-02],\n",
       "                        [ 4.8108e-02, -9.2510e-02,  1.5521e-02]],\n",
       "              \n",
       "                       [[ 1.8254e-03,  2.7842e-02,  1.0479e-01],\n",
       "                        [ 6.4874e-02, -5.8366e-02, -8.6378e-02],\n",
       "                        [-2.5520e-02, -5.2876e-02,  3.6820e-02]],\n",
       "              \n",
       "                       [[ 9.6628e-04,  8.4783e-02,  4.1405e-02],\n",
       "                        [-1.9382e-02,  3.6229e-03,  2.5244e-02],\n",
       "                        [-1.3080e-02,  8.5058e-02, -8.2420e-02]],\n",
       "              \n",
       "                       [[ 5.1377e-02, -6.7192e-02, -9.2347e-02],\n",
       "                        [-2.1640e-02,  5.1366e-02,  7.4478e-02],\n",
       "                        [ 2.6452e-02, -9.1104e-03, -5.9092e-03]]],\n",
       "              \n",
       "              \n",
       "                      [[[-4.2731e-02, -9.4592e-03, -7.2831e-03],\n",
       "                        [ 8.9699e-02,  6.1690e-02, -8.4351e-02],\n",
       "                        [ 4.3605e-04, -6.4834e-02, -1.6733e-02]],\n",
       "              \n",
       "                       [[-8.3776e-02,  2.7402e-02, -7.6008e-02],\n",
       "                        [ 1.0406e-01,  7.9605e-02, -7.2559e-02],\n",
       "                        [-9.9239e-02,  4.1128e-03, -2.9425e-02]],\n",
       "              \n",
       "                       [[ 3.0945e-02, -7.1353e-02,  4.3148e-02],\n",
       "                        [-9.1047e-02, -5.5632e-02, -5.5414e-02],\n",
       "                        [ 5.1007e-02, -2.7597e-03, -1.0130e-01]],\n",
       "              \n",
       "                       [[-6.0201e-02, -4.8781e-02, -9.7802e-02],\n",
       "                        [ 1.3497e-02,  3.7561e-02, -1.9340e-02],\n",
       "                        [-4.1947e-02, -6.3926e-04, -8.3725e-02]],\n",
       "              \n",
       "                       [[-6.4184e-02, -2.4040e-03,  9.3643e-02],\n",
       "                        [-3.2414e-02,  5.2247e-02, -4.1484e-02],\n",
       "                        [-2.8060e-02, -1.0034e-01,  8.7330e-02]],\n",
       "              \n",
       "                       [[ 1.0264e-01, -2.2139e-03,  6.6974e-02],\n",
       "                        [ 8.6219e-02,  5.2359e-02,  5.4288e-02],\n",
       "                        [-1.0035e-01, -9.9050e-02, -8.0906e-02]],\n",
       "              \n",
       "                       [[ 3.2970e-02, -9.1177e-02, -8.0464e-02],\n",
       "                        [-5.1092e-02, -9.7154e-02,  1.4203e-04],\n",
       "                        [ 1.5207e-02, -6.1686e-02,  6.9018e-02]],\n",
       "              \n",
       "                       [[-4.0018e-02, -2.9676e-02,  8.0309e-02],\n",
       "                        [ 9.0499e-02, -1.2093e-02, -7.5671e-02],\n",
       "                        [-5.2881e-02,  1.3423e-02,  6.1790e-02]],\n",
       "              \n",
       "                       [[ 5.2477e-02, -4.6547e-02, -9.9650e-02],\n",
       "                        [-9.2249e-02, -3.3537e-02,  1.3223e-03],\n",
       "                        [-4.7347e-02, -8.3348e-02,  1.1109e-02]],\n",
       "              \n",
       "                       [[-8.3668e-02, -8.0946e-02, -8.5692e-02],\n",
       "                        [-2.8563e-02,  9.3104e-02,  4.1207e-02],\n",
       "                        [-1.2498e-02,  2.1694e-02,  4.1975e-02]]],\n",
       "              \n",
       "              \n",
       "                      [[[ 6.1414e-04, -8.5020e-02, -6.4944e-02],\n",
       "                        [-7.1610e-02, -2.6766e-03, -9.6492e-02],\n",
       "                        [-1.9166e-02, -3.8545e-02,  1.0345e-01]],\n",
       "              \n",
       "                       [[ 8.5679e-02,  6.1227e-02,  5.9116e-03],\n",
       "                        [-3.4129e-02,  2.6887e-02, -7.2830e-02],\n",
       "                        [-4.4957e-02, -2.1175e-02, -2.4766e-02]],\n",
       "              \n",
       "                       [[-9.9854e-02,  4.1903e-02,  8.6803e-02],\n",
       "                        [-5.8141e-02,  2.8415e-02, -1.2225e-02],\n",
       "                        [-3.8445e-03,  6.1443e-03,  9.1346e-02]],\n",
       "              \n",
       "                       [[ 1.4124e-02, -6.6690e-02, -3.7917e-02],\n",
       "                        [ 5.1495e-02,  3.2893e-02,  2.0487e-03],\n",
       "                        [-1.3912e-02, -4.1012e-02, -3.7413e-02]],\n",
       "              \n",
       "                       [[-5.5602e-02,  1.7273e-02,  2.9603e-02],\n",
       "                        [ 8.0717e-02, -2.3813e-02,  7.5461e-03],\n",
       "                        [ 6.8125e-02,  4.5852e-02,  1.3544e-02]],\n",
       "              \n",
       "                       [[ 3.2390e-02,  5.4714e-03, -9.0419e-02],\n",
       "                        [ 4.0636e-03, -2.3040e-02,  9.5123e-02],\n",
       "                        [ 9.5145e-02,  2.0912e-02,  9.4215e-02]],\n",
       "              \n",
       "                       [[-5.4288e-02,  9.1619e-02,  9.0756e-02],\n",
       "                        [-4.0288e-03, -8.4592e-02, -3.4015e-02],\n",
       "                        [-2.8189e-02,  1.7411e-03, -9.5569e-02]],\n",
       "              \n",
       "                       [[ 1.9535e-02, -4.3839e-02, -2.6989e-02],\n",
       "                        [-5.4443e-02, -2.2255e-02, -9.7896e-02],\n",
       "                        [-5.5885e-02,  9.7108e-03,  6.9072e-02]],\n",
       "              \n",
       "                       [[ 9.5790e-02, -7.9737e-02,  4.4264e-02],\n",
       "                        [-5.9419e-02, -8.1498e-02, -4.6417e-03],\n",
       "                        [-6.0468e-02, -9.0783e-02, -9.8509e-02]],\n",
       "              \n",
       "                       [[-7.0556e-02,  8.6619e-02,  5.8788e-02],\n",
       "                        [-4.1726e-02, -7.0553e-02, -8.1085e-02],\n",
       "                        [-6.2246e-02, -4.3376e-02,  6.3308e-02]]],\n",
       "              \n",
       "              \n",
       "                      [[[ 3.4496e-02, -4.0622e-02,  7.2567e-02],\n",
       "                        [-6.5484e-02, -8.5876e-02,  2.3006e-02],\n",
       "                        [-5.8123e-02,  2.9987e-02,  8.9306e-02]],\n",
       "              \n",
       "                       [[-4.9849e-02, -7.3556e-02,  3.9676e-02],\n",
       "                        [-9.5200e-02,  9.4044e-02, -4.9780e-02],\n",
       "                        [ 5.0961e-02, -8.3818e-02, -7.1348e-02]],\n",
       "              \n",
       "                       [[ 1.1611e-02,  3.7463e-02,  8.1734e-02],\n",
       "                        [ 8.8158e-02, -6.0623e-03, -1.3552e-02],\n",
       "                        [ 1.7424e-02, -2.4486e-02,  3.5882e-03]],\n",
       "              \n",
       "                       [[-9.9828e-02, -8.6531e-02,  7.2233e-02],\n",
       "                        [-6.1597e-02,  8.3008e-02,  1.1568e-02],\n",
       "                        [ 2.5676e-02,  9.5804e-02, -5.8628e-02]],\n",
       "              \n",
       "                       [[-1.6640e-02,  1.8675e-02,  3.6012e-02],\n",
       "                        [-1.0259e-01,  3.7464e-02, -6.2163e-02],\n",
       "                        [ 1.3846e-02,  7.1315e-02, -1.0500e-02]],\n",
       "              \n",
       "                       [[-3.3346e-03, -7.8757e-03,  8.7962e-02],\n",
       "                        [ 5.9907e-02,  1.7727e-02, -6.3437e-02],\n",
       "                        [-5.7241e-02,  8.3964e-02,  7.5834e-02]],\n",
       "              \n",
       "                       [[ 6.1033e-02, -8.2189e-02,  8.2092e-02],\n",
       "                        [-1.0076e-02,  7.7661e-02,  9.1553e-02],\n",
       "                        [ 1.1554e-02, -4.3863e-02,  9.9153e-02]],\n",
       "              \n",
       "                       [[-5.4931e-02,  6.8876e-02, -1.0108e-01],\n",
       "                        [-3.3153e-02, -9.1902e-02, -4.7284e-02],\n",
       "                        [ 4.4759e-02, -7.5529e-02, -9.1158e-02]],\n",
       "              \n",
       "                       [[ 7.5371e-02,  5.6270e-02, -1.1527e-03],\n",
       "                        [-7.4309e-02, -2.7927e-02, -3.4129e-02],\n",
       "                        [ 6.5100e-02, -3.4478e-02, -3.0360e-02]],\n",
       "              \n",
       "                       [[-7.4720e-02, -4.9646e-02,  5.7074e-02],\n",
       "                        [ 6.7914e-02,  1.5315e-02, -3.9549e-02],\n",
       "                        [ 1.0124e-01,  2.0806e-02, -4.0688e-02]]],\n",
       "              \n",
       "              \n",
       "                      [[[-3.6535e-02, -1.4752e-02,  4.9974e-02],\n",
       "                        [ 3.8555e-02,  7.6418e-02, -4.7494e-03],\n",
       "                        [ 8.7183e-02, -4.2816e-02, -4.8547e-02]],\n",
       "              \n",
       "                       [[-3.8927e-02, -9.8896e-02, -6.9195e-02],\n",
       "                        [-9.5382e-02, -6.2294e-03,  9.9374e-04],\n",
       "                        [-2.7358e-02, -7.2035e-02,  9.5637e-02]],\n",
       "              \n",
       "                       [[-3.4926e-02,  5.0233e-02,  7.3408e-02],\n",
       "                        [-6.9292e-02, -1.3179e-02,  6.0923e-02],\n",
       "                        [ 1.0218e-01, -1.3299e-02,  7.6382e-02]],\n",
       "              \n",
       "                       [[-8.2732e-02, -6.8489e-02,  8.6682e-02],\n",
       "                        [-9.9801e-03,  1.0414e-01,  7.6651e-03],\n",
       "                        [-4.3714e-02,  1.0011e-01,  9.2179e-02]],\n",
       "              \n",
       "                       [[ 9.7826e-03, -6.3900e-02, -4.5639e-03],\n",
       "                        [-5.0693e-02,  7.6810e-02,  4.8829e-03],\n",
       "                        [ 2.2191e-02,  6.3927e-02,  3.4916e-02]],\n",
       "              \n",
       "                       [[-6.5803e-02,  8.7566e-02,  6.4758e-02],\n",
       "                        [-6.5073e-02,  7.9700e-02,  2.9905e-02],\n",
       "                        [-2.0750e-02, -7.5385e-02, -1.7490e-02]],\n",
       "              \n",
       "                       [[-1.0335e-01,  6.0163e-02,  7.6343e-02],\n",
       "                        [-3.0347e-02,  9.7720e-02, -3.9032e-02],\n",
       "                        [ 1.8051e-02, -7.3459e-02, -4.4565e-03]],\n",
       "              \n",
       "                       [[ 4.2610e-02,  4.5403e-02, -3.5346e-03],\n",
       "                        [-5.3154e-02,  7.3680e-02,  6.9788e-02],\n",
       "                        [ 1.6916e-02, -4.8475e-02,  2.2349e-02]],\n",
       "              \n",
       "                       [[ 2.8186e-04,  9.6302e-02,  1.5621e-02],\n",
       "                        [ 8.1301e-03,  7.2057e-03,  5.6079e-02],\n",
       "                        [-1.3024e-03,  9.0351e-02,  5.4917e-02]],\n",
       "              \n",
       "                       [[-7.9650e-02, -1.2070e-06, -8.9472e-02],\n",
       "                        [-8.0934e-02,  2.0480e-02,  2.3687e-02],\n",
       "                        [-9.2246e-03,  1.0019e-01, -5.6627e-02]]],\n",
       "              \n",
       "              \n",
       "                      [[[-4.4176e-02, -1.6881e-02,  6.3911e-04],\n",
       "                        [-8.9284e-03,  9.4909e-02, -4.4519e-02],\n",
       "                        [-5.5137e-02,  9.0599e-03,  7.9171e-02]],\n",
       "              \n",
       "                       [[ 2.5019e-02,  5.6787e-02,  2.0406e-02],\n",
       "                        [ 8.9839e-02,  6.3311e-02,  7.5428e-02],\n",
       "                        [-1.4198e-02, -8.7268e-02, -5.0002e-02]],\n",
       "              \n",
       "                       [[ 3.5910e-02,  7.3950e-02, -4.1184e-02],\n",
       "                        [ 8.7218e-02,  1.5150e-02,  4.1869e-04],\n",
       "                        [ 4.1093e-03, -1.8623e-02,  9.8683e-02]],\n",
       "              \n",
       "                       [[ 4.5784e-03,  6.4564e-02, -8.8967e-02],\n",
       "                        [-5.4309e-02,  1.1852e-02,  8.4169e-02],\n",
       "                        [ 5.0184e-02,  2.0076e-02, -1.0414e-01]],\n",
       "              \n",
       "                       [[ 1.9816e-03, -6.9581e-02, -9.0006e-02],\n",
       "                        [ 1.4414e-02, -6.6693e-02,  9.5674e-02],\n",
       "                        [-5.7294e-02,  3.3970e-02,  6.1871e-02]],\n",
       "              \n",
       "                       [[-8.1928e-02,  5.3946e-02, -1.4114e-02],\n",
       "                        [ 5.4619e-02,  1.0201e-01, -4.4922e-02],\n",
       "                        [-4.5653e-02,  8.3753e-02,  1.1722e-02]],\n",
       "              \n",
       "                       [[-1.0513e-02,  7.9971e-02, -5.0928e-02],\n",
       "                        [-5.2047e-03,  7.2403e-02,  4.1195e-02],\n",
       "                        [-6.8180e-02,  2.7398e-02, -8.0368e-02]],\n",
       "              \n",
       "                       [[-5.7245e-02,  6.7779e-02, -2.8093e-02],\n",
       "                        [-5.3691e-02,  7.4717e-03,  2.5759e-02],\n",
       "                        [-6.5524e-02, -7.1084e-02, -1.0209e-01]],\n",
       "              \n",
       "                       [[ 2.7236e-02, -6.8013e-02,  8.0331e-03],\n",
       "                        [-2.3576e-02, -6.8923e-02, -3.3636e-02],\n",
       "                        [-8.1027e-02, -5.5797e-02, -3.2857e-03]],\n",
       "              \n",
       "                       [[-9.0116e-02, -9.2447e-02,  7.8958e-02],\n",
       "                        [ 9.9188e-03, -4.6618e-02, -3.5047e-03],\n",
       "                        [ 7.8168e-02, -8.7939e-02, -5.5886e-02]]],\n",
       "              \n",
       "              \n",
       "                      [[[-7.6226e-02, -7.6634e-03, -3.6274e-03],\n",
       "                        [-8.2146e-02,  7.3163e-02, -8.0946e-02],\n",
       "                        [ 9.8414e-02, -7.2560e-02, -1.4446e-02]],\n",
       "              \n",
       "                       [[ 1.9710e-02, -4.6852e-02,  9.6939e-02],\n",
       "                        [-7.2673e-02, -5.8427e-03, -7.7398e-02],\n",
       "                        [ 2.9261e-02,  8.9871e-02,  9.7776e-02]],\n",
       "              \n",
       "                       [[ 1.2514e-02, -5.2773e-02,  1.0244e-01],\n",
       "                        [ 7.8667e-03,  7.1317e-02, -5.4751e-02],\n",
       "                        [-4.8920e-02, -8.7504e-02,  9.6990e-02]],\n",
       "              \n",
       "                       [[ 1.7486e-02, -7.5704e-02,  9.0535e-03],\n",
       "                        [-4.5211e-02,  5.2659e-03,  3.4988e-02],\n",
       "                        [-5.2308e-02,  1.8394e-02, -6.6553e-02]],\n",
       "              \n",
       "                       [[ 2.0312e-02, -1.0178e-01,  1.6797e-02],\n",
       "                        [ 1.0473e-01,  9.7094e-02,  3.8451e-02],\n",
       "                        [ 7.7563e-02,  1.0248e-01,  2.9870e-02]],\n",
       "              \n",
       "                       [[ 3.5156e-02,  1.3707e-02,  9.3322e-02],\n",
       "                        [ 9.0551e-02, -4.9570e-02, -4.3333e-03],\n",
       "                        [-5.3110e-02,  3.7824e-02, -1.0214e-01]],\n",
       "              \n",
       "                       [[ 3.7301e-02, -2.8929e-02,  3.8227e-02],\n",
       "                        [ 3.2899e-02, -5.2454e-02,  5.4687e-02],\n",
       "                        [ 4.4762e-02, -8.9602e-02,  1.0517e-01]],\n",
       "              \n",
       "                       [[ 9.0731e-02,  6.5584e-02, -1.0699e-02],\n",
       "                        [ 3.7345e-02, -5.7028e-02, -3.5818e-02],\n",
       "                        [ 4.9749e-02,  4.6925e-02,  4.1741e-02]],\n",
       "              \n",
       "                       [[-1.0053e-01,  8.7350e-02, -4.4028e-02],\n",
       "                        [ 9.1223e-02,  8.6852e-02,  3.9070e-02],\n",
       "                        [ 1.0502e-01,  6.0528e-02,  6.1821e-02]],\n",
       "              \n",
       "                       [[-3.5794e-02,  9.7766e-02,  2.7627e-02],\n",
       "                        [ 6.2280e-02, -2.3834e-02,  7.6340e-02],\n",
       "                        [ 9.3509e-02, -8.0770e-02,  8.6415e-02]]],\n",
       "              \n",
       "              \n",
       "                      [[[-6.9664e-02, -7.2571e-02, -8.8089e-02],\n",
       "                        [ 3.0459e-02, -7.9144e-02, -3.9680e-02],\n",
       "                        [-5.2988e-02,  2.8172e-02, -1.0349e-01]],\n",
       "              \n",
       "                       [[-4.8324e-02,  7.7112e-04,  9.4660e-03],\n",
       "                        [-4.7605e-02,  3.7764e-02, -6.9544e-02],\n",
       "                        [-8.9270e-02, -1.4986e-02, -5.6989e-02]],\n",
       "              \n",
       "                       [[ 6.6443e-02, -7.2049e-02, -8.8494e-03],\n",
       "                        [ 4.3782e-02, -9.2311e-02,  8.1599e-02],\n",
       "                        [-4.7895e-02, -2.8684e-02, -6.4480e-02]],\n",
       "              \n",
       "                       [[-3.9279e-02, -4.0645e-02, -9.3801e-02],\n",
       "                        [ 3.6019e-02, -3.3768e-04,  1.0311e-01],\n",
       "                        [ 7.1117e-02,  9.1699e-02,  3.1014e-02]],\n",
       "              \n",
       "                       [[ 5.5388e-02,  9.8704e-02,  8.6545e-02],\n",
       "                        [-8.0996e-02, -2.3636e-02, -1.0166e-01],\n",
       "                        [ 3.9877e-03, -3.7229e-02,  9.1486e-02]],\n",
       "              \n",
       "                       [[ 1.6666e-02,  1.1601e-03, -7.6248e-02],\n",
       "                        [-8.2718e-02,  1.6594e-02, -5.2376e-02],\n",
       "                        [-4.8409e-02,  7.3938e-02, -5.4952e-02]],\n",
       "              \n",
       "                       [[-4.6918e-02,  8.0934e-02,  4.1183e-02],\n",
       "                        [-5.9894e-02,  3.1923e-02,  5.3141e-02],\n",
       "                        [-9.3625e-02,  1.9691e-02,  2.4083e-02]],\n",
       "              \n",
       "                       [[-4.1054e-03,  1.0107e-01, -6.9673e-02],\n",
       "                        [ 5.7144e-02, -5.5995e-02, -9.0242e-02],\n",
       "                        [ 7.1838e-02, -5.0567e-02,  4.9544e-03]],\n",
       "              \n",
       "                       [[ 5.5435e-02, -8.7981e-02, -9.0229e-02],\n",
       "                        [ 3.5888e-02,  9.1909e-02, -1.1154e-02],\n",
       "                        [ 7.4231e-02,  3.7041e-02,  3.0074e-02]],\n",
       "              \n",
       "                       [[-6.7206e-02,  1.0032e-01,  4.8282e-02],\n",
       "                        [ 1.6299e-02,  7.4556e-02, -9.0571e-02],\n",
       "                        [ 2.2714e-02, -4.9619e-02, -1.0704e-02]]]], device='cuda:0')),\n",
       "             ('Convolutional_2.2.bias',\n",
       "              tensor([ 0.0345,  0.0467,  0.0242, -0.0816, -0.0660,  0.0018, -0.0183, -0.0882,\n",
       "                       0.1038,  0.0133], device='cuda:0')),\n",
       "             ('classification_layer.1.weight',\n",
       "              tensor([[-0.0321,  0.0198,  0.0196,  ...,  0.0087,  0.0195,  0.0061],\n",
       "                      [-0.0305,  0.0326, -0.0070,  ...,  0.0148,  0.0293, -0.0052],\n",
       "                      [ 0.0104,  0.0201, -0.0446,  ..., -0.0436, -0.0144,  0.0421],\n",
       "                      ...,\n",
       "                      [ 0.0103,  0.0417,  0.0064,  ...,  0.0289,  0.0332, -0.0025],\n",
       "                      [-0.0128,  0.0122, -0.0204,  ...,  0.0175,  0.0189,  0.0286],\n",
       "                      [-0.0221,  0.0302,  0.0103,  ...,  0.0434, -0.0216, -0.0307]],\n",
       "                     device='cuda:0')),\n",
       "             ('classification_layer.1.bias',\n",
       "              tensor([-0.0200, -0.0325, -0.0059, -0.0322,  0.0328,  0.0321, -0.0287,  0.0398,\n",
       "                       0.0094, -0.0287], device='cuda:0'))])"
      ]
     },
     "execution_count": 36,
     "metadata": {},
     "output_type": "execute_result"
    }
   ],
   "source": [
    "model_3.state_dict()\n"
   ]
  },
  {
   "cell_type": "code",
   "execution_count": 37,
   "id": "0331981e",
   "metadata": {},
   "outputs": [
    {
     "data": {
      "text/plain": [
       "tensor([[-0.0456, -0.0482,  0.0092, -0.0863,  0.0347,  0.0485, -0.0798,  0.0452,\n",
       "         -0.0325, -0.0376],\n",
       "        [-0.0476, -0.0471,  0.0104, -0.0855,  0.0328,  0.0513, -0.0787,  0.0447,\n",
       "         -0.0324, -0.0364],\n",
       "        [-0.0457, -0.0491,  0.0117, -0.0811,  0.0345,  0.0526, -0.0752,  0.0451,\n",
       "         -0.0320, -0.0368],\n",
       "        [-0.0482, -0.0454,  0.0076, -0.0879,  0.0349,  0.0519, -0.0767,  0.0466,\n",
       "         -0.0357, -0.0408],\n",
       "        [-0.0462, -0.0480,  0.0133, -0.0821,  0.0348,  0.0504, -0.0754,  0.0450,\n",
       "         -0.0330, -0.0374],\n",
       "        [-0.0479, -0.0483,  0.0089, -0.0902,  0.0321,  0.0508, -0.0808,  0.0427,\n",
       "         -0.0349, -0.0371],\n",
       "        [-0.0507, -0.0499,  0.0048, -0.0898,  0.0334,  0.0474, -0.0797,  0.0446,\n",
       "         -0.0361, -0.0384],\n",
       "        [-0.0485, -0.0456,  0.0053, -0.0940,  0.0330,  0.0470, -0.0769,  0.0441,\n",
       "         -0.0325, -0.0369],\n",
       "        [-0.0469, -0.0492,  0.0055, -0.0891,  0.0348,  0.0514, -0.0795,  0.0480,\n",
       "         -0.0329, -0.0382],\n",
       "        [-0.0475, -0.0470,  0.0089, -0.0847,  0.0391,  0.0534, -0.0780,  0.0453,\n",
       "         -0.0348, -0.0409],\n",
       "        [-0.0445, -0.0478,  0.0085, -0.0908,  0.0351,  0.0498, -0.0778,  0.0438,\n",
       "         -0.0307, -0.0373],\n",
       "        [-0.0461, -0.0467,  0.0079, -0.0859,  0.0372,  0.0519, -0.0766,  0.0454,\n",
       "         -0.0342, -0.0406],\n",
       "        [-0.0462, -0.0474,  0.0074, -0.0871,  0.0340,  0.0496, -0.0775,  0.0427,\n",
       "         -0.0340, -0.0377],\n",
       "        [-0.0480, -0.0459,  0.0074, -0.0883,  0.0339,  0.0496, -0.0801,  0.0460,\n",
       "         -0.0332, -0.0363],\n",
       "        [-0.0451, -0.0471,  0.0083, -0.0884,  0.0353,  0.0509, -0.0761,  0.0439,\n",
       "         -0.0321, -0.0378],\n",
       "        [-0.0469, -0.0478,  0.0103, -0.0822,  0.0344,  0.0511, -0.0751,  0.0460,\n",
       "         -0.0320, -0.0358]], device='cuda:0')"
      ]
     },
     "execution_count": 37,
     "metadata": {},
     "output_type": "execute_result"
    }
   ],
   "source": [
    "torch.cuda.manual_seed(42)\n",
    "for X,y in test_data_loader:\n",
    "    X , y = X.to(device) , y.to(device)\n",
    "    with torch.inference_mode():\n",
    "        y_logits = model_3(X)\n",
    "y_logits"
   ]
  },
  {
   "cell_type": "code",
   "execution_count": 38,
   "id": "f62ced27",
   "metadata": {},
   "outputs": [
    {
     "name": "stdout",
     "output_type": "stream",
     "text": [
      "Test image size :torch.Size([3, 64, 64])\n"
     ]
    },
    {
     "data": {
      "text/plain": [
       "tensor([[[ 1.9269,  1.4873,  0.9007,  ...,  1.8446, -1.1845,  1.3835],\n",
       "         [ 1.4451,  0.8564,  2.2181,  ...,  0.3399,  0.7200,  0.4114],\n",
       "         [ 1.9312,  1.0119, -1.4364,  ..., -0.5558,  0.7043,  0.7099],\n",
       "         ...,\n",
       "         [-0.5610, -0.4830,  0.4770,  ..., -0.2713, -0.9537, -0.6737],\n",
       "         [ 0.3076, -0.1277,  0.0366,  ..., -2.0060,  0.2824, -0.8111],\n",
       "         [-1.5486,  0.0485, -0.7712,  ..., -0.1403,  0.9416, -0.0118]],\n",
       "\n",
       "        [[-0.5197,  1.8524,  1.8365,  ...,  0.8935, -1.5114, -0.8515],\n",
       "         [ 2.0818,  1.0677, -1.4277,  ...,  1.6612, -2.6223, -0.4319],\n",
       "         [-0.1010, -0.4388, -1.9775,  ...,  0.2106,  0.2536, -0.7318],\n",
       "         ...,\n",
       "         [ 0.2779,  0.7342, -0.3736,  ..., -0.4601,  0.1815,  0.1850],\n",
       "         [ 0.7205, -0.2833,  0.0937,  ..., -0.1002, -2.3609,  2.2465],\n",
       "         [-1.3242, -0.1973,  0.2920,  ...,  0.5409,  0.6940,  1.8563]],\n",
       "\n",
       "        [[-0.7978,  1.0261,  1.1465,  ...,  1.2134,  0.9354, -0.0780],\n",
       "         [-1.4647, -1.9571,  0.1017,  ..., -1.9986, -0.7409,  0.7011],\n",
       "         [-1.3938,  0.8466, -1.7191,  ..., -1.1867,  0.1320,  0.3407],\n",
       "         ...,\n",
       "         [ 0.8206, -0.3745,  1.2499,  ..., -0.0676,  0.0385,  0.6335],\n",
       "         [-0.5589, -0.3393,  0.2347,  ...,  2.1181,  2.4569,  1.3083],\n",
       "         [-0.4092,  1.5199,  0.2401,  ..., -0.2558,  0.7870,  0.9924]]])"
      ]
     },
     "execution_count": 38,
     "metadata": {},
     "output_type": "execute_result"
    }
   ],
   "source": [
    "torch.manual_seed(42)\n",
    "\n",
    "test_batch_image = torch.randn(size=(32,3,64,64))\n",
    "\n",
    "test_image = test_batch_image[0]\n",
    "\n",
    "print(f\"Test image size :{test_image.shape}\")\n",
    "test_image\n",
    "\n",
    "\n"
   ]
  },
  {
   "cell_type": "code",
   "execution_count": 39,
   "id": "042dc8d9",
   "metadata": {},
   "outputs": [
    {
     "data": {
      "text/plain": [
       "torch.Size([10, 62, 62])"
      ]
     },
     "execution_count": 39,
     "metadata": {},
     "output_type": "execute_result"
    }
   ],
   "source": [
    "torch.manual_seed(42)\n",
    "\n",
    "conv_layer = nn.Conv2d(in_channels=3,\n",
    "                       out_channels=10,\n",
    "                       stride=1,\n",
    "                       padding=0,\n",
    "                       kernel_size=(3,3))\n",
    "\n",
    "conv_out = conv_layer(test_image)\n",
    "conv_out.shape"
   ]
  },
  {
   "cell_type": "markdown",
   "id": "53be86ee",
   "metadata": {},
   "source": [
    "### Let's Try to understand what MaxPool layer does to our code"
   ]
  },
  {
   "cell_type": "code",
   "execution_count": 40,
   "id": "0c710242",
   "metadata": {},
   "outputs": [
    {
     "name": "stdout",
     "output_type": "stream",
     "text": [
      "test image size :torch.Size([3, 64, 64])\n",
      "shape of the test image after passing through the conv layer:torch.Size([10, 62, 62])\n",
      "shape of the test image after passing through the conv layer and max pool layer:torch.Size([10, 31, 31])\n"
     ]
    }
   ],
   "source": [
    "max_pool_layer = nn.MaxPool2d(kernel_size=(2,2))\n",
    "\n",
    "print(f\"test image size :{test_image.shape}\")\n",
    "\n",
    "test_image_pass_conv = conv_layer(test_image)\n",
    "\n",
    "print(f\"shape of the test image after passing through the conv layer:{test_image_pass_conv.shape}\")\n",
    "\n",
    "test_image_pass_conv_and_maxpool = max_pool_layer(test_image_pass_conv)\n",
    "\n",
    "print(f\"shape of the test image after passing through the conv layer and max pool layer:{test_image_pass_conv_and_maxpool.shape}\")"
   ]
  },
  {
   "cell_type": "markdown",
   "id": "0fa16777",
   "metadata": {},
   "source": [
    "#### Setting Up a Loss function and Optimizer"
   ]
  },
  {
   "cell_type": "code",
   "execution_count": 41,
   "id": "0b2332e8",
   "metadata": {},
   "outputs": [],
   "source": [
    "loss = nn.CrossEntropyLoss()\n",
    "\n",
    "optimizer = torch.optim.SGD(params = model_3.parameters(),lr = 0.1)"
   ]
  },
  {
   "cell_type": "markdown",
   "id": "a76516f0",
   "metadata": {},
   "source": [
    "#### Building a Training and testing loop\n",
    "\n",
    "\n",
    "for training and testing the CNN we will use the function that we have already created for training and testing."
   ]
  },
  {
   "cell_type": "code",
   "execution_count": 42,
   "id": "5325c8ca",
   "metadata": {},
   "outputs": [
    {
     "name": "stderr",
     "output_type": "stream",
     "text": [
      "  0%|          | 0/3 [00:00<?, ?it/s]"
     ]
    },
    {
     "name": "stdout",
     "output_type": "stream",
     "text": [
      "epoch = 0 /--------\n",
      "\n",
      "Looked at 0/60000 samples\n",
      "Looked at 12800/60000 samples\n",
      "Looked at 25600/60000 samples\n",
      "Looked at 38400/60000 samples\n",
      "Looked at 51200/60000 samples\n"
     ]
    },
    {
     "name": "stderr",
     "output_type": "stream",
     "text": [
      " 33%|███▎      | 1/3 [00:13<00:26, 13.02s/it]"
     ]
    },
    {
     "name": "stdout",
     "output_type": "stream",
     "text": [
      "Train Loss :0.6371591091156006 | Train Accuracy :76.74000549316406\n",
      "epoch = 1 /--------\n",
      "\n",
      "Looked at 0/60000 samples\n",
      "Looked at 12800/60000 samples\n",
      "Looked at 25600/60000 samples\n",
      "Looked at 38400/60000 samples\n",
      "Looked at 51200/60000 samples\n"
     ]
    },
    {
     "name": "stderr",
     "output_type": "stream",
     "text": [
      " 67%|██████▋   | 2/3 [00:25<00:12, 12.49s/it]"
     ]
    },
    {
     "name": "stdout",
     "output_type": "stream",
     "text": [
      "Train Loss :0.358084499835968 | Train Accuracy :87.04666137695312\n",
      "epoch = 2 /--------\n",
      "\n",
      "Looked at 0/60000 samples\n",
      "Looked at 12800/60000 samples\n",
      "Looked at 25600/60000 samples\n",
      "Looked at 38400/60000 samples\n",
      "Looked at 51200/60000 samples\n"
     ]
    },
    {
     "name": "stderr",
     "output_type": "stream",
     "text": [
      "100%|██████████| 3/3 [00:38<00:00, 12.73s/it]\n"
     ]
    },
    {
     "name": "stdout",
     "output_type": "stream",
     "text": [
      "Train Loss :0.3108416497707367 | Train Accuracy :88.75167083740234\n"
     ]
    },
    {
     "name": "stderr",
     "output_type": "stream",
     "text": [
      "  0%|          | 0/1 [00:00<?, ?it/s]"
     ]
    },
    {
     "name": "stdout",
     "output_type": "stream",
     "text": [
      "epoch = 0 /--------\n",
      "\n",
      "Looked at 0/10000 samples\n"
     ]
    },
    {
     "name": "stderr",
     "output_type": "stream",
     "text": [
      "100%|██████████| 1/1 [00:01<00:00,  1.63s/it]"
     ]
    },
    {
     "name": "stdout",
     "output_type": "stream",
     "text": [
      "Test Loss :0.35013139247894287 | Test Accuracy :87.56988525390625\n"
     ]
    },
    {
     "name": "stderr",
     "output_type": "stream",
     "text": [
      "\n"
     ]
    }
   ],
   "source": [
    "train_loop(epochs=3,\n",
    "           model=model_3,\n",
    "           train_data=train_data_loader,\n",
    "           loss_fn=loss,\n",
    "           optimizer=optimizer,\n",
    "           accuracy=accuracy)\n",
    "test_loop(model=model_3,\n",
    "          test_data=test_data_loader,\n",
    "          loss_fn=loss,\n",
    "          accuracy=accuracy)"
   ]
  },
  {
   "cell_type": "code",
   "execution_count": 43,
   "id": "e170e2c7",
   "metadata": {},
   "outputs": [
    {
     "data": {
      "text/plain": [
       "{'model_name': 'ConvolutionalNN',\n",
       " 'model_loss': 0.35013139247894287,\n",
       " 'model_acc': 86.96601104736328}"
      ]
     },
     "execution_count": 43,
     "metadata": {},
     "output_type": "execute_result"
    }
   ],
   "source": [
    "model_3_results = eval_model(model=model_3,data_loader=test_data_loader,loss_fn=loss)\n",
    "model_3_results"
   ]
  },
  {
   "cell_type": "code",
   "execution_count": 44,
   "id": "2b6efcc3",
   "metadata": {},
   "outputs": [
    {
     "data": {
      "text/html": [
       "<div>\n",
       "<style scoped>\n",
       "    .dataframe tbody tr th:only-of-type {\n",
       "        vertical-align: middle;\n",
       "    }\n",
       "\n",
       "    .dataframe tbody tr th {\n",
       "        vertical-align: top;\n",
       "    }\n",
       "\n",
       "    .dataframe thead th {\n",
       "        text-align: right;\n",
       "    }\n",
       "</style>\n",
       "<table border=\"1\" class=\"dataframe\">\n",
       "  <thead>\n",
       "    <tr style=\"text-align: right;\">\n",
       "      <th></th>\n",
       "      <th>model_name</th>\n",
       "      <th>model_loss</th>\n",
       "      <th>model_acc</th>\n",
       "    </tr>\n",
       "  </thead>\n",
       "  <tbody>\n",
       "    <tr>\n",
       "      <th>0</th>\n",
       "      <td>FashionMINIST</td>\n",
       "      <td>0.478732</td>\n",
       "      <td>82.266167</td>\n",
       "    </tr>\n",
       "    <tr>\n",
       "      <th>1</th>\n",
       "      <td>FashionMNISTv1</td>\n",
       "      <td>0.511804</td>\n",
       "      <td>80.897484</td>\n",
       "    </tr>\n",
       "    <tr>\n",
       "      <th>2</th>\n",
       "      <td>ConvolutionalNN</td>\n",
       "      <td>0.350131</td>\n",
       "      <td>86.966011</td>\n",
       "    </tr>\n",
       "  </tbody>\n",
       "</table>\n",
       "</div>"
      ],
      "text/plain": [
       "        model_name  model_loss  model_acc\n",
       "0    FashionMINIST    0.478732  82.266167\n",
       "1   FashionMNISTv1    0.511804  80.897484\n",
       "2  ConvolutionalNN    0.350131  86.966011"
      ]
     },
     "execution_count": 44,
     "metadata": {},
     "output_type": "execute_result"
    }
   ],
   "source": [
    "import pandas as pd\n",
    "\n",
    "model_results = pd.DataFrame([model_0_results,model_1_results,model_3_results])\n",
    "model_results"
   ]
  },
  {
   "cell_type": "code",
   "execution_count": 45,
   "id": "0541ab07",
   "metadata": {},
   "outputs": [
    {
     "data": {
      "text/plain": [
       "Text(0.5, 0, 'accuracy')"
      ]
     },
     "execution_count": 45,
     "metadata": {},
     "output_type": "execute_result"
    },
    {
     "data": {
      "image/png": "[encoded data removed]",
      "text/plain": [
       "<Figure size 640x480 with 1 Axes>"
      ]
     },
     "metadata": {},
     "output_type": "display_data"
    }
   ],
   "source": [
    "# Let's plot the results in a horizontal bar graph\n",
    "\n",
    "model_results.set_index(\"model_name\")[\"model_acc\"].plot(kind=\"barh\")\n",
    "plt.ylabel(\"model\")\n",
    "plt.xlabel(\"accuracy\")"
   ]
  },
  {
   "cell_type": "markdown",
   "id": "09adeb37",
   "metadata": {},
   "source": [
    "#### Now we have have to make predictions based on the best model"
   ]
  },
  {
   "cell_type": "code",
   "execution_count": 46,
   "id": "8e248366",
   "metadata": {},
   "outputs": [],
   "source": [
    "def make_predictions(model: torch.nn.Module,\n",
    "                     data: list):\n",
    "    pred_probs = []\n",
    "\n",
    "    for sample in data:\n",
    "        sample = sample.unsqueeze(dim=0)\n",
    "        pred_logits = model(sample)\n",
    "        pred_prob = torch.softmax(pred_logits,dim=1)\n",
    "        pred_probs.append(pred_prob)\n",
    "    return torch.stack(pred_probs,dim=0)\n"
   ]
  },
  {
   "cell_type": "code",
   "execution_count": 47,
   "id": "dc4237fa",
   "metadata": {},
   "outputs": [],
   "source": [
    "import random\n",
    "random.seed(42)\n",
    "\n",
    "test_samples =[]\n",
    "test_labels=[]\n",
    "\n",
    "for sample,label in random.sample(list(test_data),k=9):\n",
    "    test_samples.append(sample)\n",
    "    test_labels.append(label)\n",
    "\n",
    "    "
   ]
  },
  {
   "cell_type": "code",
   "execution_count": 48,
   "id": "41f62d15",
   "metadata": {},
   "outputs": [
    {
     "data": {
      "text/plain": [
       "tensor([[[2.6457e-06, 1.5183e-08, 4.7254e-07, 2.5011e-09, 9.1340e-08,\n",
       "          9.9906e-01, 2.5699e-06, 6.4600e-07, 1.2175e-05, 9.2346e-04]],\n",
       "\n",
       "        [[7.0516e-03, 9.5798e-01, 1.3458e-04, 2.3903e-02, 4.4915e-03,\n",
       "          7.0017e-05, 6.1282e-03, 4.2796e-05, 1.7747e-04, 1.8614e-05]]],\n",
       "       grad_fn=<SliceBackward0>)"
      ]
     },
     "execution_count": 48,
     "metadata": {},
     "output_type": "execute_result"
    }
   ],
   "source": [
    "predictions = make_predictions(model=model_3.to(\"cpu\"),data=test_samples)\n",
    "predictions[:2]"
   ]
  },
  {
   "cell_type": "code",
   "execution_count": 52,
   "id": "5450df79",
   "metadata": {},
   "outputs": [
    {
     "data": {
      "text/plain": [
       "(tensor([[5],\n",
       "         [1],\n",
       "         [7],\n",
       "         [4],\n",
       "         [3],\n",
       "         [0],\n",
       "         [4],\n",
       "         [7],\n",
       "         [1]]),\n",
       " [5, 1, 7, 4, 3, 0, 4, 7, 1])"
      ]
     },
     "execution_count": 52,
     "metadata": {},
     "output_type": "execute_result"
    }
   ],
   "source": [
    "argmax_prediction = predictions.argmax(dim=2)\n",
    "argmax_prediction,test_labels"
   ]
  },
  {
   "cell_type": "markdown",
   "id": "0839522b",
   "metadata": {},
   "source": [
    "#### Now lets Visualize the predictions"
   ]
  },
  {
   "cell_type": "code",
   "execution_count": 54,
   "id": "e1734117",
   "metadata": {},
   "outputs": [
    {
     "data": {
      "image/png": "[encoded data removed]",
      "text/plain": [
       "<Figure size 900x900 with 9 Axes>"
      ]
     },
     "metadata": {},
     "output_type": "display_data"
    }
   ],
   "source": [
    "import matplotlib.pyplot as plt\n",
    "\n",
    "plt.figure(figsize=(9,9))\n",
    "\n",
    "rows = 3\n",
    "columns = 3\n",
    "\n",
    "for i , sample in enumerate(test_samples):\n",
    "    plt.subplot(rows,columns,i+1)\n",
    "    plt.imshow(sample.squeeze(),cmap=\"grey\")\n",
    "    pred_label = train_data_classes[argmax_prediction[i]]\n",
    "    truth_label = train_data_classes[test_labels[i]]\n",
    "    title_text = f\"pred:{pred_label} | truth:{truth_label}\"\n",
    "\n",
    "    if pred_label==truth_label:\n",
    "        plt.title(title_text,fontsize=10,c=\"g\")\n",
    "    else :\n",
    "        plt.title(title_text,fontsize=10,c=\"r\")"
   ]
  },
  {
   "cell_type": "markdown",
   "id": "7ae514d7",
   "metadata": {},
   "source": [
    "#### Lets make a Confusion Matrices\n",
    "\n",
    "Three steps for making confusion matrics\n",
    "\n",
    "1. Make predictions with our trained model, model_2 (a confusion matrix compares predictions to true labels).\n",
    "2. Make a confusion matrix using torchmetrics.ConfusionMatrix.\n",
    "3. Plot the confusion matrix using mlxtend.plotting.plot_confusion_matrix()."
   ]
  },
  {
   "cell_type": "code",
   "execution_count": 57,
   "id": "137945dc",
   "metadata": {},
   "outputs": [
    {
     "name": "stderr",
     "output_type": "stream",
     "text": [
      "Making Predictions: 100%|██████████| 313/313 [00:01<00:00, 249.10it/s]\n"
     ]
    }
   ],
   "source": [
    "# Make predictions\n",
    "from tqdm.auto import tqdm\n",
    "\n",
    "model_3 = model_3.to(device)\n",
    "\n",
    "y_preds = []\n",
    "for X,y in tqdm(test_data_loader, desc=\"Making Predictions\"):\n",
    "    X , y = X.to(device) , y.to(device)\n",
    "\n",
    "    y_logits = model_3(X)\n",
    "\n",
    "    y_pred_softmax = torch.softmax(y_logits,dim=1)\n",
    "\n",
    "    y_pred_argmax = torch.argmax(y_pred_softmax,dim=1)\n",
    "\n",
    "    y_preds.append(y_pred_argmax)\n",
    "\n",
    "y_pred_tensor = torch.cat(y_preds)\n",
    "\n"
   ]
  },
  {
   "cell_type": "code",
   "execution_count": 59,
   "id": "f5026b72",
   "metadata": {},
   "outputs": [
    {
     "name": "stdout",
     "output_type": "stream",
     "text": [
      "mlxtend version : 0.23.4\n"
     ]
    }
   ],
   "source": [
    "import mlxtend , torchmetrics\n",
    "\n",
    "print(f\"mlxtend version : {mlxtend.__version__}\")"
   ]
  },
  {
   "cell_type": "code",
   "execution_count": 65,
   "id": "3eff4914",
   "metadata": {},
   "outputs": [
    {
     "data": {
      "image/png": "[encoded data removed]",
      "text/plain": [
       "<Figure size 1000x700 with 1 Axes>"
      ]
     },
     "metadata": {},
     "output_type": "display_data"
    }
   ],
   "source": [
    "from torchmetrics import ConfusionMatrix\n",
    "from mlxtend.plotting import  plot_confusion_matrix\n",
    "\n",
    "confmat = ConfusionMatrix(num_classes=len(train_data_classes),task=\"multiclass\").to(device)\n",
    "confmat_tensor = confmat(preds = y_pred_tensor.to(device),\n",
    "                         target= test_data.targets.to(device))\n",
    "\n",
    "fig,ax = plot_confusion_matrix(\n",
    "    conf_mat=confmat_tensor.cpu().numpy(),\n",
    "    class_names=train_data_classes,\n",
    "    figsize=(10,7)\n",
    ")"
   ]
  },
  {
   "cell_type": "markdown",
   "id": "3c295e6a",
   "metadata": {},
   "source": [
    "### Let's Save a model's state dict and Load a model"
   ]
  },
  {
   "cell_type": "code",
   "execution_count": 68,
   "id": "33f541d6",
   "metadata": {},
   "outputs": [
    {
     "name": "stdout",
     "output_type": "stream",
     "text": [
      "Saving model to: models\\03_pytorch_computer_vision_model_3.pth\n"
     ]
    }
   ],
   "source": [
    "from pathlib import Path\n",
    "\n",
    "Model_Path = Path(\"models\")\n",
    "Model_Path.mkdir(parents=True,\n",
    "                 exist_ok=True)\n",
    "\n",
    "MODEL_NAME = \"03_pytorch_computer_vision_model_3.pth\"\n",
    "MODEL_SAVE_PATH = Model_Path / MODEL_NAME\n",
    "\n",
    "print(f\"Saving model to: {MODEL_SAVE_PATH}\")\n",
    "torch.save(obj=model_3.state_dict(), # only saving the state_dict() only saves the learned parameters\n",
    "           f=MODEL_SAVE_PATH)"
   ]
  },
  {
   "cell_type": "code",
   "execution_count": 73,
   "id": "07e5d7e4",
   "metadata": {},
   "outputs": [],
   "source": [
    "loaded_model_3 = ConvolutionalNN(input_units=1, \n",
    "                                    hidden_units=10, # try changing this to 128 and seeing what happens \n",
    "                                    output_units=10) \n",
    "\n",
    "# Load in the saved state_dict()\n",
    "loaded_model_3.load_state_dict(torch.load(f=MODEL_SAVE_PATH))\n",
    "\n",
    "# Send model to GPU\n",
    "loaded_model_3 = loaded_model_3.to(device)"
   ]
  },
  {
   "cell_type": "code",
   "execution_count": 78,
   "id": "1f55d471",
   "metadata": {},
   "outputs": [
    {
     "data": {
      "text/plain": [
       "{'model_name': 'ConvolutionalNN',\n",
       " 'model_loss': 0.35013139247894287,\n",
       " 'model_acc': 86.96601104736328}"
      ]
     },
     "execution_count": 78,
     "metadata": {},
     "output_type": "execute_result"
    }
   ],
   "source": [
    "torch.manual_seed(42)\n",
    "\n",
    "loaded_model_3_results = eval_model(\n",
    "    model=loaded_model_3,\n",
    "    data_loader=test_data_loader,\n",
    "    loss_fn=loss\n",
    ")\n",
    "\n",
    "loaded_model_3_results"
   ]
  },
  {
   "cell_type": "code",
   "execution_count": null,
   "id": "bc0aeb18",
   "metadata": {},
   "outputs": [],
   "source": []
  }
 ],
 "metadata": {
  "kernelspec": {
   "display_name": "torch_env",
   "language": "python",
   "name": "python3"
  },
  "language_info": {
   "codemirror_mode": {
    "name": "ipython",
    "version": 3
   },
   "file_extension": ".py",
   "mimetype": "text/x-python",
   "name": "python",
   "nbconvert_exporter": "python",
   "pygments_lexer": "ipython3",
   "version": "3.13.2"
  }
 },
 "nbformat": 4,
 "nbformat_minor": 5
}
